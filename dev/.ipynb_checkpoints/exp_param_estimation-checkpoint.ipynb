{
 "cells": [
  {
   "cell_type": "code",
   "execution_count": 1,
   "metadata": {},
   "outputs": [
    {
     "ename": "ModuleNotFoundError",
     "evalue": "No module named 'sympy'",
     "output_type": "error",
     "traceback": [
      "\u001b[0;31m---------------------------------------------------------------------------\u001b[0m",
      "\u001b[0;31mModuleNotFoundError\u001b[0m                       Traceback (most recent call last)",
      "\u001b[0;32m<ipython-input-1-2a981d316d64>\u001b[0m in \u001b[0;36m<module>\u001b[0;34m\u001b[0m\n\u001b[1;32m      3\u001b[0m \u001b[0;32mimport\u001b[0m \u001b[0mnumpy\u001b[0m \u001b[0;32mas\u001b[0m \u001b[0mnp\u001b[0m\u001b[0;34m\u001b[0m\u001b[0;34m\u001b[0m\u001b[0m\n\u001b[1;32m      4\u001b[0m \u001b[0;32mfrom\u001b[0m \u001b[0mscipy\u001b[0m \u001b[0;32mimport\u001b[0m \u001b[0mintegrate\u001b[0m\u001b[0;34m\u001b[0m\u001b[0;34m\u001b[0m\u001b[0m\n\u001b[0;32m----> 5\u001b[0;31m \u001b[0;32mimport\u001b[0m \u001b[0msympy\u001b[0m\u001b[0;34m\u001b[0m\u001b[0;34m\u001b[0m\u001b[0m\n\u001b[0m\u001b[1;32m      6\u001b[0m \u001b[0;32mfrom\u001b[0m \u001b[0mmatplotlib\u001b[0m \u001b[0;32mimport\u001b[0m \u001b[0mpyplot\u001b[0m \u001b[0;32mas\u001b[0m \u001b[0mplt\u001b[0m\u001b[0;34m\u001b[0m\u001b[0;34m\u001b[0m\u001b[0m\n\u001b[1;32m      7\u001b[0m \u001b[0;32mfrom\u001b[0m \u001b[0mIPython\u001b[0m\u001b[0;34m.\u001b[0m\u001b[0mdisplay\u001b[0m \u001b[0;32mimport\u001b[0m \u001b[0mdisplay\u001b[0m\u001b[0;34m\u001b[0m\u001b[0;34m\u001b[0m\u001b[0m\n",
      "\u001b[0;31mModuleNotFoundError\u001b[0m: No module named 'sympy'"
     ]
    }
   ],
   "source": [
    "# Reference: https://hal.inria.fr/inria-00179732/document\n",
    "\n",
    "import numpy as np\n",
    "from scipy import integrate\n",
    "from matplotlib import pyplot as plt\n",
    "from IPython.display import display\n",
    "\n",
    "%matplotlib inline\n",
    "\n",
    "# set up a sum of coefficients to estimate\n",
    "\n",
    "N = 1\n",
    "T = 10\n",
    "alpha_real = [-0.2, -0.2]\n",
    "alpha_imag = [0.9, -0.9]\n",
    "times = np.linspace(0, T, 10000)\n",
    "signal = sum([np.exp((alpha_real[i] + 1j * alpha_imag[i]) * times) for i in range(N)])\n",
    "plt.plot(times, signal.real)"
   ]
  },
  {
   "cell_type": "code",
   "execution_count": null,
   "metadata": {},
   "outputs": [],
   "source": [
    "# set up and solve the matrix equation\n",
    "\n",
    "def reconstruct_modes(times, signal, N, v=None):\n",
    "    if v is None:\n",
    "        v = N + 2\n",
    "    # takes in a time axis for a signal, the signal, and the number of modes to reconstruct.\n",
    "    # returns an np array of the exponential coefficients.\n",
    "    fact = np.math.factorial\n",
    "    A = np.zeros((N, N), dtype='complex')\n",
    "    d = np.zeros(N, dtype='complex')\n",
    "    assert v > N + 1, \"only numerical integration allowed\"\n",
    "\n",
    "    def permute(n, k):\n",
    "        # useful because it's the coefficient on the 'k'th derivative of s^n\n",
    "        assert n >= k, \"permute got a bad value\"\n",
    "        return fact(n)/fact(n - k)\n",
    "\n",
    "    def choose(n, k):\n",
    "        # useful because product rule works\n",
    "        assert n >= k, \"choose got a bad value\"\n",
    "        return fact(n)/(fact(k)*fact(n - k))\n",
    "\n",
    "    # set up d\n",
    "\n",
    "    for i in range(1,N+1):\n",
    "        for k in range(N+2):\n",
    "            to_integrate = (T - times)**(v-N+k-2) * times**(N+i-k) * signal\n",
    "            integral = integrate.simps(to_integrate, times)\n",
    "            d[i-1] += choose(N+i, k) * permute(N+1, k) * (-1)**(N+i-k)/fact(v-N+k-2) * integral\n",
    "\n",
    "    # set up A\n",
    "    for i in range(1,N+1):\n",
    "        for j in range(1,N+1):\n",
    "            for k in range(N+2-j):\n",
    "                to_integrate = (T - times)**(v-N+j+k-2) * times**(N+i-k) * signal\n",
    "                integral = integrate.simps(to_integrate, times)\n",
    "                A[i-1][j-1] += choose(N+i, k) * permute(N+1-j, k) * (-1)**(N+i-k)/fact(v-N+j+k-2) * integral\n",
    "\n",
    "    # d = A*theta\n",
    "    theta = np.linalg.inv(A).dot(d)\n",
    "    theta = np.hstack((1, -theta))\n",
    "    return np.roots(theta)\n",
    "\n",
    "alpha = reconstruct_modes(times, signal, N)\n",
    "reconstructed = sum([np.exp(alpha[i] * times) for i in range(N)])\n",
    "plt.plot(times, signal.real, label='True')\n",
    "plt.plot(times, reconstructed.real, label='Reconstructed')\n",
    "plt.legend()"
   ]
  },
  {
   "cell_type": "code",
   "execution_count": null,
   "metadata": {},
   "outputs": [],
   "source": [
    "# now let's try adding in some noise\n",
    "\n",
    "noise = 0.1\n",
    "noisy_signal = signal + np.random.normal(0, noise, times.size)\n",
    "plt.plot(times, noisy_signal.real)"
   ]
  },
  {
   "cell_type": "code",
   "execution_count": null,
   "metadata": {},
   "outputs": [],
   "source": [
    "alpha = reconstruct_modes(times, signal, N)\n",
    "print(alpha)\n",
    "reconstructed = sum([np.exp(alpha[i] * times) for i in range(N)])\n",
    "plt.figure(figsize=(10,10))\n",
    "plt.plot(times, signal.real, label='True')\n",
    "plt.plot(times, reconstructed.real, label='Reconstructed')\n",
    "plt.legend()"
   ]
  },
  {
   "cell_type": "code",
   "execution_count": null,
   "metadata": {},
   "outputs": [],
   "source": [
    "# now for something a little more like the vibe modes\n",
    "# let's eliminate hypotheses one by one.\n",
    "# hypothesis 1: 1 second at 1 kHz is insufficient\n",
    "\n",
    "def make_signal(f, k, T, f_sampling=1000):\n",
    "    times = np.arange(0, T, 1/f_sampling)\n",
    "    signal = np.exp(1j*2*np.pi*f*times)*np.exp(-2*np.pi*k*f*times)\n",
    "    return times, signal\n",
    "\n",
    "f, k, T = 100, 0.1, 1\n",
    "print(\"expected:\", -2*np.pi*f*k + 2j*np.pi*f)\n",
    "reconst = reconstruct_modes(*make_signal(f, k, T, 1000),1)\n",
    "print(\"actual:\", reconst)"
   ]
  },
  {
   "cell_type": "code",
   "execution_count": null,
   "metadata": {},
   "outputs": [],
   "source": [
    "times, signal = make_signal(f, k, T)\n",
    "plt.plot(times, signal.real)\n",
    "plt.plot(times, np.exp(reconst * times))"
   ]
  },
  {
   "cell_type": "code",
   "execution_count": null,
   "metadata": {},
   "outputs": [],
   "source": []
  }
 ],
 "metadata": {
  "kernelspec": {
   "display_name": "Python 3",
   "language": "python",
   "name": "python3"
  },
  "language_info": {
   "codemirror_mode": {
    "name": "ipython",
    "version": 3
   },
   "file_extension": ".py",
   "mimetype": "text/x-python",
   "name": "python",
   "nbconvert_exporter": "python",
   "pygments_lexer": "ipython3",
   "version": "3.7.3"
  }
 },
 "nbformat": 4,
 "nbformat_minor": 2
}
