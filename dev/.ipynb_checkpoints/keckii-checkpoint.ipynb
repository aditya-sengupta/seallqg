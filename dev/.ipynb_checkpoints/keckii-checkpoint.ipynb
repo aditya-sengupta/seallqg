{
 "cells": [
  {
   "cell_type": "code",
   "execution_count": 1,
   "metadata": {},
   "outputs": [],
   "source": [
    "# heh get it\n",
    "\n",
    "import numpy as np\n",
    "from matplotlib import pyplot as plt\n",
    "%matplotlib inline\n",
    "from scipy import signal, optimize, stats\n",
    "from observer import make_kfilter, vibe_fit_freq, get_psd, predict, update, noise_filter"
   ]
  },
  {
   "cell_type": "code",
   "execution_count": 2,
   "metadata": {},
   "outputs": [],
   "source": [
    "openloop = np.load('keck_tt/OpenLoop_n0088.npy')\n",
    "centroid_loaded = np.load('keck_tt/Centroid_n0088.npy')\n",
    "centroid = np.zeros(centroid_loaded.shape)\n",
    "commands_loaded = np.load('keck_tt/Commands_n0088.npy')\n",
    "commands = np.zeros(commands_loaded.shape) # to check later if this matches keck_tt/Commands"
   ]
  },
  {
   "cell_type": "code",
   "execution_count": 3,
   "metadata": {},
   "outputs": [],
   "source": [
    "steps = openloop.shape[0]\n",
    "f_sampling = 1000\n",
    "times = np.arange(0, steps/f_sampling, 1/f_sampling)"
   ]
  },
  {
   "cell_type": "code",
   "execution_count": 4,
   "metadata": {},
   "outputs": [],
   "source": [
    "for i in range(steps):\n",
    "    if i >= 3:\n",
    "        commands[i] = 0.6*commands[i-1] + 0.32*commands[i-2] + 0.08*commands[i-3] + 0.1*centroid[i]\n",
    "    centroid[i+1] = openloop[i] - commands[i]"
   ]
  },
  {
   "cell_type": "code",
   "execution_count": 5,
   "metadata": {},
   "outputs": [
    {
     "name": "stdout",
     "output_type": "stream",
     "text": [
      "Average deviation in x, open loop:  0.009095664136111736\n"
     ]
    }
   ],
   "source": [
    "print(\"Average deviation in x, open loop: \", sum([np.mean(openloop[:,0]**2)]))"
   ]
  },
  {
   "cell_type": "code",
   "execution_count": 6,
   "metadata": {},
   "outputs": [
    {
     "name": "stdout",
     "output_type": "stream",
     "text": [
      "Average deviation in x, standard integrator:  0.002200652111463444\n"
     ]
    }
   ],
   "source": [
    "print(\"Average deviation in x, standard integrator: \", sum([np.mean(centroid[:,0]**2)]))"
   ]
  },
  {
   "cell_type": "code",
   "execution_count": 7,
   "metadata": {},
   "outputs": [],
   "source": [
    "# build a Kalman filter based on POLs from the first 1 second\n",
    "# since it'll be operating on POLs this is actually more accurate than just a physics simulation\n",
    "# in real life, you'd probably run the standard integrator for 1 second and recover open-loops\n",
    "\n",
    "# this is going to be garbage, because there's no turbulence fit yet\n",
    "\n",
    "centroid_kalman = np.zeros(steps)\n",
    "\n",
    "state, A, P, Q, H, R = make_kfilter(*vibe_fit_freq(noise_filter(get_psd(openloop[:1000][:,0])), N=10))\n",
    "states_freq = np.zeros((steps, state.size))\n",
    "for k in range(steps):\n",
    "    state, P = update(H, P, R, state, openloop[k,0]) # Kalman filter takes in the POL\n",
    "    states_freq[k] = state\n",
    "    state, P = predict(A, P, Q, state)\n",
    "    centroid_kalman[k] = openloop[k,0] - H.dot(states_freq[k])\n",
    "    \n",
    "pos_freq = np.array([H.dot(state) for state in states_freq]).flatten()"
   ]
  },
  {
   "cell_type": "code",
   "execution_count": 8,
   "metadata": {},
   "outputs": [
    {
     "name": "stdout",
     "output_type": "stream",
     "text": [
      "Average deviation in x, Kalman filter:  0.07891664775008204\n"
     ]
    }
   ],
   "source": [
    "print(\"Average deviation in x, Kalman filter: \", sum([np.mean(pos_freq**2)]))"
   ]
  },
  {
   "cell_type": "code",
   "execution_count": 9,
   "metadata": {},
   "outputs": [
    {
     "name": "stdout",
     "output_type": "stream",
     "text": [
      "[ 4.99213877e+01  2.99107746e-02 -2.97201368e-02 ...  1.26503390e-05\n",
      "  1.42015231e-05 -8.61271063e-05]\n"
     ]
    }
   ],
   "source": [
    "print(centroid_kalman)"
   ]
  },
  {
   "cell_type": "code",
   "execution_count": null,
   "metadata": {},
   "outputs": [],
   "source": []
  }
 ],
 "metadata": {
  "kernelspec": {
   "display_name": "Python 3",
   "language": "python",
   "name": "python3"
  },
  "language_info": {
   "codemirror_mode": {
    "name": "ipython",
    "version": 3
   },
   "file_extension": ".py",
   "mimetype": "text/x-python",
   "name": "python",
   "nbconvert_exporter": "python",
   "pygments_lexer": "ipython3",
   "version": "3.7.4"
  }
 },
 "nbformat": 4,
 "nbformat_minor": 2
}
