{
 "cells": [
  {
   "cell_type": "code",
   "execution_count": 1,
   "metadata": {},
   "outputs": [],
   "source": [
    "import numpy as np\n",
    "from matplotlib import pyplot as plt\n",
    "%matplotlib inline\n",
    "from scipy import signal, optimize, stats\n",
    "from observer import make_kfilter, vibe_fit_freq, get_psd, predict, update, noise_filter\n",
    "from aberrations import make_1D_vibe_data, make_noisy_data"
   ]
  },
  {
   "cell_type": "code",
   "execution_count": 2,
   "metadata": {},
   "outputs": [],
   "source": [
    "T = 1\n",
    "f_sampling = 1000\n",
    "steps = T * f_sampling\n",
    "times = np.arange(0, steps/f_sampling, 1/f_sampling)\n",
    "\n",
    "tt = np.load('./combined.npy')[:,0]\n",
    "tt_noisy = make_noisy_data(tt, 0.06)\n",
    "commands = np.zeros(steps)\n",
    "centroid = np.zeros(steps)\n",
    "\n",
    "for i in range(steps):\n",
    "    if i >= 4:\n",
    "        commands[i-1] = 0.6*commands[i-2] + 0.32*commands[i-3] + 0.08*commands[i-4] + 0.1*centroid[i-1]\n",
    "    centroid[i] = tt_noisy[i] - commands[i-1]"
   ]
  },
  {
   "cell_type": "code",
   "execution_count": 3,
   "metadata": {},
   "outputs": [],
   "source": [
    "centroid_kalman = np.zeros(steps)\n",
    "\n",
    "state, A, P, Q, H, R = make_kfilter(*vibe_fit_freq(noise_filter(get_psd(tt_noisy)), N=5))\n",
    "\n",
    "states_freq = np.zeros((steps, state.size))\n",
    "for k in range(steps):\n",
    "    state, P = update(H, P, R, state, tt_noisy[k])\n",
    "    states_freq[k] = state\n",
    "    state, P = predict(A, P, Q, state)\n",
    "    centroid_kalman[k] = tt_noisy[k] - H.dot(states_freq[k])\n",
    "    \n",
    "pos_freq = np.array([H.dot(state) for state in states_freq]).flatten()"
   ]
  },
  {
   "cell_type": "code",
   "execution_count": 4,
   "metadata": {},
   "outputs": [
    {
     "name": "stdout",
     "output_type": "stream",
     "text": [
      "Average deviation in x, open loop:  0.05901018818416387\n",
      "Average deviation in x, standard integrator:  6.864234007042405\n",
      "Average deviation in x, Kalman filter:  0.11330956466550841\n"
     ]
    }
   ],
   "source": [
    "error = lambda data: np.abs(data - tt)\n",
    "rms = lambda data: np.sqrt(np.mean(error(data)**2))\n",
    "print(\"Average deviation in x, open loop: \", rms(tt_noisy))\n",
    "print(\"Average deviation in x, standard integrator: \", rms(centroid))\n",
    "print(\"Average deviation in x, Kalman filter: \", rms(pos_freq))"
   ]
  },
  {
   "cell_type": "code",
   "execution_count": 5,
   "metadata": {},
   "outputs": [
    {
     "data": {
      "text/plain": [
       "[<matplotlib.lines.Line2D at 0x10c6ff810>]"
      ]
     },
     "execution_count": 5,
     "metadata": {},
     "output_type": "execute_result"
    },
    {
     "data": {
      "image/png": "[encoded data removed]",
      "text/plain": [
       "<Figure size 432x288 with 1 Axes>"
      ]
     },
     "metadata": {
      "needs_background": "light"
     },
     "output_type": "display_data"
    }
   ],
   "source": [
    "plt.plot(rms(pos_freq))\n",
    "plt.plot(rms(tt_noisy))"
   ]
  },
  {
   "cell_type": "code",
   "execution_count": null,
   "metadata": {},
   "outputs": [],
   "source": []
  }
 ],
 "metadata": {
  "kernelspec": {
   "display_name": "Python 3",
   "language": "python",
   "name": "python3"
  },
  "language_info": {
   "codemirror_mode": {
    "name": "ipython",
    "version": 3
   },
   "file_extension": ".py",
   "mimetype": "text/x-python",
   "name": "python",
   "nbconvert_exporter": "python",
   "pygments_lexer": "ipython3",
   "version": "3.7.4"
  }
 },
 "nbformat": 4,
 "nbformat_minor": 2
}
