{
 "cells": [
  {
   "cell_type": "markdown",
   "metadata": {},
   "source": [
    "# Aim\n",
    "\n",
    "Turbulence screen generator that explicitly uses a generated basis, for easy modifications."
   ]
  },
  {
   "cell_type": "code",
   "execution_count": 1,
   "metadata": {},
   "outputs": [],
   "source": [
    "# imports\n",
    "\n",
    "import sys\n",
    "sys.path.append(\"..\")\n",
    "from hcipy.hcipy import *\n",
    "import numpy as np\n",
    "from matplotlib import pyplot as plt\n",
    "from scipy.interpolate import interp1d\n",
    "from scipy.signal import convolve2d\n",
    "%matplotlib inline"
   ]
  },
  {
   "cell_type": "code",
   "execution_count": 2,
   "metadata": {},
   "outputs": [],
   "source": [
    "# global parameter definitions\n",
    "\n",
    "wavelength = 5e-7\n",
    "dt = 1/1000\n",
    "T = 0.1\n",
    "D = 8.2\n",
    "r0 = 16.5e-3   \n",
    "k = 2 * np.pi / wavelength\n",
    "p = 512\n",
    "times = np.arange(0, T, dt)\n",
    "pupil_grid = make_pupil_grid(p, diameter=D)\n",
    "aperture = circular_aperture(D)(pupil_grid)\n",
    "\n",
    "fried_parameter = 0.2 # meter\n",
    "outer_scale = 20 # meter\n",
    "velocity = 10 # meter/sec\n",
    "Cn_squared = Cn_squared_from_fried_parameter(fried_parameter, wavelength)\n",
    "layer = InfiniteAtmosphericLayer(pupil_grid, Cn_squared, outer_scale, velocity)"
   ]
  },
  {
   "cell_type": "code",
   "execution_count": 3,
   "metadata": {},
   "outputs": [],
   "source": [
    "modes = [i for i in range(1, 3)] # 1 is tip 2 is tilt\n",
    "basis = np.vstack([zernike(*ansi_to_zernike(i), D=D, grid=pupil_grid) for i in modes]).T"
   ]
  },
  {
   "cell_type": "code",
   "execution_count": 4,
   "metadata": {},
   "outputs": [
    {
     "data": {
      "text/plain": [
       "'\\nsingle_layer_turb = [None] * times.size\\nfor n in range(times.size):\\n    layer.evolve_until(times[n])\\n    turb = single_layer_atmos.phase_for(wavelength)\\n    single_layer_turb[n] = Field(turb, grid=pupil_grid) * aperture'"
      ]
     },
     "execution_count": 4,
     "metadata": {},
     "output_type": "execute_result"
    },
    {
     "data": {
      "image/png": "[encoded data removed]",
      "text/plain": [
       "<Figure size 432x288 with 2 Axes>"
      ]
     },
     "metadata": {
      "needs_background": "light"
     },
     "output_type": "display_data"
    }
   ],
   "source": [
    "outer_scale   = 20 \n",
    "wind_velocity = 15\n",
    "Cn2           = r0**(-5. / 3) / (0.423 * k**2)\n",
    "\n",
    "#def turbulence_phases():\n",
    "    # returns a list of Fields representing the turbulence phases over time\n",
    "    \n",
    "wf = Wavefront(aperture)\n",
    "focal_grid = make_focal_grid_from_pupil_grid(pupil_grid, q=8, num_airy=16)\n",
    "propagator = FraunhoferPropagator(pupil_grid, focal_grid)\n",
    "img = propagator(layer(wf))\n",
    "imshow_field(np.log10(img.intensity / img.intensity.max()), vmin=-3)\n",
    "plt.colorbar()\n",
    "\n",
    "'''\n",
    "single_layer_turb = [None] * times.size\n",
    "for n in range(times.size):\n",
    "    layer.evolve_until(times[n])\n",
    "    turb = single_layer_atmos.phase_for(wavelength)\n",
    "    single_layer_turb[n] = Field(turb, grid=pupil_grid) * aperture'''\n",
    "    #return single_layer_turb"
   ]
  },
  {
   "cell_type": "code",
   "execution_count": 5,
   "metadata": {},
   "outputs": [
    {
     "ename": "NameError",
     "evalue": "name 'turbulence_phases' is not defined",
     "output_type": "error",
     "traceback": [
      "\u001b[0;31m---------------------------------------------------------------------------\u001b[0m",
      "\u001b[0;31mNameError\u001b[0m                                 Traceback (most recent call last)",
      "\u001b[0;32m<ipython-input-5-d0bc90e9a094>\u001b[0m in \u001b[0;36m<module>\u001b[0;34m\u001b[0m\n\u001b[0;32m----> 1\u001b[0;31m \u001b[0mphases\u001b[0m \u001b[0;34m=\u001b[0m \u001b[0mturbulence_phases\u001b[0m\u001b[0;34m(\u001b[0m\u001b[0;34m)\u001b[0m\u001b[0;34m\u001b[0m\u001b[0;34m\u001b[0m\u001b[0m\n\u001b[0m",
      "\u001b[0;31mNameError\u001b[0m: name 'turbulence_phases' is not defined"
     ]
    }
   ],
   "source": [
    "phases = turbulence_phases()"
   ]
  },
  {
   "cell_type": "code",
   "execution_count": null,
   "metadata": {},
   "outputs": [],
   "source": [
    "# separate out TT\n",
    "tt_phases = [None] * times.size\n",
    "basis_t = basis.T\n",
    "to_multiply = basis.dot(np.linalg.inv(basis_t.dot(basis)).dot(basis_t))\n",
    "for i in range(times.size):\n",
    "    tt_phases[i] = Field(to_multiply.dot(phases[i]), pupil_grid)"
   ]
  },
  {
   "cell_type": "code",
   "execution_count": null,
   "metadata": {},
   "outputs": [],
   "source": [
    "imshow_field(0.1 * (tt_phases[0] % (2*np.pi)))\n",
    "plt.colorbar()"
   ]
  },
  {
   "cell_type": "code",
   "execution_count": null,
   "metadata": {},
   "outputs": [],
   "source": [
    "tip = basis.T[0]\n",
    "imshow_field(tip, pupil_grid)\n",
    "plt.colorbar()\n"
   ]
  },
  {
   "cell_type": "code",
   "execution_count": null,
   "metadata": {},
   "outputs": [],
   "source": [
    "theta = 0.01\n",
    "tt_phase = aperture * np.linspace(-0.01, +0.01, tt_phases[0].size)\n",
    "imshow_field(tt_phase)\n",
    "plt.colorbar()\n",
    "tt_phase = tt_phase.reshape((p, p))\n",
    "slope = np.mean(np.gradient(tt_phase[:,p//2], tt_phase[p//2,:]))\n",
    "print(slope)\n",
    "print(np.sin(theta))\n",
    "plt.axhline(0, color='black')\n",
    "plt.axvline(0, color='black')"
   ]
  },
  {
   "cell_type": "code",
   "execution_count": null,
   "metadata": {},
   "outputs": [],
   "source": [
    "def center_of_mass(f):\n",
    "    # takes in a Field, returns its CM.\n",
    "    # rewriting because there seem to be weird bugs with the scipy inbuilt\n",
    "    s = f.grid.shape[0]\n",
    "    x, y = (n.flatten() for n in np.meshgrid(np.linspace(1, s+1, s), np.linspace(1, s+1, s)))\n",
    "    return np.array((sum(f*x), sum(f*y)))/sum(f)"
   ]
  },
  {
   "cell_type": "code",
   "execution_count": null,
   "metadata": {},
   "outputs": [],
   "source": [
    "wf = Wavefront(aperture)\n",
    "focal_grid = make_focal_grid_from_pupil_grid(pupil_grid, q=2, num_airy=8)\n",
    "propagator = FraunhoferPropagator(pupil_grid, focal_grid)\n",
    "wf.electric_field *= np.exp(-1j * phases[0] * k)\n",
    "psf = np.abs(propagator(wf).electric_field)**2\n",
    "imshow_field(psf, focal_grid)\n",
    "print(center_of_mass(psf))"
   ]
  },
  {
   "cell_type": "code",
   "execution_count": null,
   "metadata": {},
   "outputs": [],
   "source": [
    "focal_grid = make_focal_grid_from_pupil_grid(pupil_grid, q=8, num_airy=8)\n",
    "theta = (wavelength/D) * 4\n",
    "phase = np.tile(np.linspace(-6*np.sin(theta), 6*np.sin(theta), p), (p, 1))\n",
    "phase = phase * aperture.reshape(p,p)\n",
    "plt.imshow(phase)\n",
    "plt.colorbar()\n",
    "propagator = FraunhoferPropagator(pupil_grid, focal_grid)\n",
    "efield = np.exp(-1j * phase.ravel() * k)\n",
    "psf = np.abs(propagator(Wavefront(efield)).electric_field)**2\n",
    "#imshow_field(psf, focal_grid)"
   ]
  },
  {
   "cell_type": "code",
   "execution_count": null,
   "metadata": {},
   "outputs": [],
   "source": [
    "theta = 1\n",
    "imshow_field(propagator(Wavefront(aperture * np.exp(-1j * tt_phase * k))).electric_field**2)\n",
    "#imshow_field(tt_phase, tt_phases[0].grid)\n",
    "plt.colorbar()\n",
    "plt.show()"
   ]
  },
  {
   "cell_type": "code",
   "execution_count": null,
   "metadata": {},
   "outputs": [],
   "source": [
    "# now do all of this in a loop\n",
    "conversion = 1\n",
    "cm = np.zeros((times.size, 2))\n",
    "for i in range(times.size):\n",
    "    wf = Wavefront(aperture * np.exp(-1j * tt_phases[i] * k))\n",
    "    intensity = np.abs(propagator(wf).electric_field)**2\n",
    "    psf = propagator(wf)\n",
    "    if not i % 10:\n",
    "        imshow_field(psf.electric_field**2)\n",
    "        plt.show()\n",
    "    cm[i] = center_of_mass(intensity)\n",
    "    # intensities are strictly positive and also the square of electric field\n",
    "    \n",
    "cm *= conversion    \n",
    "cm -= np.tile(np.mean(cm, axis=0), (times.size, 1))\n",
    "cm = cm.T"
   ]
  },
  {
   "cell_type": "code",
   "execution_count": null,
   "metadata": {
    "scrolled": true
   },
   "outputs": [],
   "source": [
    "plt.figure(figsize=(6,6))\n",
    "plt.plot(cm[0], cm[1], 'go-')\n",
    "plt.xlabel(\"x deviation (mas)\")\n",
    "plt.ylabel(\"y deviation (mas)\")\n",
    "plt.title(\"Turbulence tip-tilt deviations\")"
   ]
  },
  {
   "cell_type": "code",
   "execution_count": null,
   "metadata": {},
   "outputs": [],
   "source": [
    "from scipy.signal import periodogram\n",
    "plt.figure(figsize=(10,10))\n",
    "plt.semilogy(*periodogram(cm[0]))\n",
    "plt.ylim(1e-2)"
   ]
  },
  {
   "cell_type": "code",
   "execution_count": null,
   "metadata": {},
   "outputs": [],
   "source": []
  }
 ],
 "metadata": {
  "kernelspec": {
   "display_name": "Python 3",
   "language": "python",
   "name": "python3"
  },
  "language_info": {
   "codemirror_mode": {
    "name": "ipython",
    "version": 3
   },
   "file_extension": ".py",
   "mimetype": "text/x-python",
   "name": "python",
   "nbconvert_exporter": "python",
   "pygments_lexer": "ipython3",
   "version": "3.7.4"
  }
 },
 "nbformat": 4,
 "nbformat_minor": 2
}
