{
 "cells": [
  {
   "cell_type": "code",
   "execution_count": 9,
   "metadata": {},
   "outputs": [],
   "source": [
    "# Kalman filtering on a basic test case is suddenly not working. This notebook is meant to figure out why.\n",
    "from ao_observe import *\n",
    "import numpy as np\n",
    "from matplotlib import pyplot as plt\n",
    "%matplotlib inline\n",
    "\n",
    "# make single-mode vibration data\n",
    "N_vib_app = 10\n",
    "f_sampling = 1000\n",
    "time_id = 1\n",
    "times = np.arange(0, time_id, 1 / f_sampling)\n",
    "\n",
    "vib_freqs = np.random.uniform(low=50, high=350, size=N_vib_app)  # Hz\n",
    "vib_amps = np.random.uniform(low=0.1, high=1, size=N_vib_app)  # milliarcseconds\n",
    "vib_phase = np.random.uniform(low=0.0, high=2 * np.pi, size=N_vib_app)  # radians\n",
    "vib_damping = np.random.uniform(low=1e-5, high=1e-2, size=N_vib_app)  # unitless\n",
    "\n",
    "truth = sum([vib_amps[i] * np.exp(1j * (2 * np.pi * vib_freqs[i] * times - vib_phase[i])).real\n",
    "                * np.exp(-2 * np.pi * vib_damping[i] * vib_freqs[i] * times) for i in range(N_vib_app)])\n",
    "\n",
    "# we're not dealing with parameter fits here, let's just assume we did that perfectly\n",
    "params = np.vstack((vib_amps, vib_freqs, vib_damping, vib_phase)).T"
   ]
  },
  {
   "cell_type": "code",
   "execution_count": 10,
   "metadata": {},
   "outputs": [
    {
     "name": "stdout",
     "output_type": "stream",
     "text": [
      "(20, 20)\n"
     ]
    }
   ],
   "source": [
    "STATE_SIZE = 2 * params.shape[0]\n",
    "\n",
    "def make_state_transition(params):\n",
    "    dt = 1 / f_sampling\n",
    "    A = np.zeros((STATE_SIZE, STATE_SIZE))\n",
    "    for i in range(STATE_SIZE // 2):\n",
    "        _, f, k, _ = params[i]\n",
    "        w = 2 * np.pi * f\n",
    "        a = -w * k\n",
    "        b = w * np.sqrt(1 - k ** 2)\n",
    "        c, s = np.cos(b * dt), np.sin(b * dt)\n",
    "        coeff = np.exp(a * dt) / b\n",
    "        A[2 * i][2 * i] = coeff * (-a * s + b * c)\n",
    "        A[2 * i][2 * i + 1] = coeff * s\n",
    "        A[2 * i + 1][2 * i] = -coeff * w ** 2 * s\n",
    "        A[2 * i + 1][2 * i + 1] = coeff * (a * s + b * c)\n",
    "    return A\n",
    "\n",
    "A = make_state_transition(params)\n",
    "print(A.shape)"
   ]
  },
  {
   "cell_type": "code",
   "execution_count": 32,
   "metadata": {},
   "outputs": [
    {
     "name": "stdout",
     "output_type": "stream",
     "text": [
      "1.104251248258567\n",
      "1.1042512482585667\n"
     ]
    }
   ],
   "source": [
    "def damped_harmonic(pars_model):\n",
    "    A, f, k, p = pars_model\n",
    "    return A * np.exp(-k * 2 * np.pi * f * times) * np.exp(2j * np.pi * f * times - p).real\n",
    "\n",
    "\n",
    "def damped_derivative(pars_model):\n",
    "    # utility: returns derivative of damped_harmonic evaluated at time 0\n",
    "    A, f, k, p = pars_model\n",
    "    return A * 2 * np.pi * f * (np.sin(p) - k * np.cos(p))\n",
    "\n",
    "\n",
    "state = np.array(list(itertools.chain.from_iterable([[\n",
    "        damped_harmonic(params[i])[0],\n",
    "        damped_derivative(params[i])]\n",
    "        for i in range(STATE_SIZE // 2)])))\n",
    "\n",
    "H = np.array([1, 0] * (STATE_SIZE // 2))\n",
    "print(truth[0])\n",
    "print(H.dot(state))\n",
    "# okay this is a discrepancy. I haven't dealt at all with state evolution yet\n",
    "# so there's something wrong in how I set up state, measurement, or truth.\n",
    "# we can rule out truth, because it's truth"
   ]
  },
  {
   "cell_type": "code",
   "execution_count": 28,
   "metadata": {},
   "outputs": [
    {
     "name": "stdout",
     "output_type": "stream",
     "text": [
      "[0.01818613 0.00289926 0.00764851 0.01060885 0.28494914 0.01079682\n",
      " 0.366453   0.39498707 0.00115851 0.00656396]\n"
     ]
    }
   ],
   "source": [
    "truth_modes = np.array([vib_amps[i] * np.exp(1j * 2 * np.pi * vib_freqs[i] * times - vib_phase[i]).real\n",
    "                * np.exp(-2 * np.pi * vib_damping[i] * vib_freqs[i] * times) for i in range(N_vib_app)])\n",
    "print(truth_modes.T[0])"
   ]
  },
  {
   "cell_type": "code",
   "execution_count": 35,
   "metadata": {},
   "outputs": [
    {
     "data": {
      "text/plain": [
       "[<matplotlib.lines.Line2D at 0x114f02048>]"
      ]
     },
     "execution_count": 35,
     "metadata": {},
     "output_type": "execute_result"
    },
    {
     "data": {
      "image/png": "[encoded data removed]",
      "text/plain": [
       "<Figure size 432x288 with 1 Axes>"
      ]
     },
     "metadata": {
      "needs_background": "light"
     },
     "output_type": "display_data"
    }
   ],
   "source": [
    "# wait, why did changing np.cos(x) to np.exp(1j * x) make a difference?\n",
    "\n",
    "c = np.cos(times)\n",
    "e = np.exp(1j*times)\n",
    "plt.plot(times, c)\n",
    "plt.plot(times, e.real)"
   ]
  },
  {
   "cell_type": "code",
   "execution_count": null,
   "metadata": {},
   "outputs": [],
   "source": []
  }
 ],
 "metadata": {
  "kernelspec": {
   "display_name": "Python 3",
   "language": "python",
   "name": "python3"
  },
  "language_info": {
   "codemirror_mode": {
    "name": "ipython",
    "version": 3
   },
   "file_extension": ".py",
   "mimetype": "text/x-python",
   "name": "python",
   "nbconvert_exporter": "python",
   "pygments_lexer": "ipython3",
   "version": "3.7.3"
  }
 },
 "nbformat": 4,
 "nbformat_minor": 2
}
