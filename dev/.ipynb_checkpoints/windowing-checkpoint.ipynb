{
 "cells": [
  {
   "cell_type": "markdown",
   "metadata": {},
   "source": [
    "# Aim\n",
    "\n",
    "Windowing out a specific width around a PSD is ineffective and can be improved, so this notebook is designated for testing those improvements."
   ]
  },
  {
   "cell_type": "code",
   "execution_count": 1,
   "metadata": {},
   "outputs": [],
   "source": [
    "from observer import *\n",
    "import numpy as np\n",
    "from scipy import signal"
   ]
  },
  {
   "cell_type": "code",
   "execution_count": 2,
   "metadata": {},
   "outputs": [],
   "source": [
    "N_vib_app = 5\n",
    "\n",
    "def make_vibe_params(N=N_vib_app):\n",
    "    vib_amps = np.random.uniform(low=0.1, high=1, size=N)  # milliarcseconds\n",
    "    vib_freqs = np.random.uniform(low=f_1, high=f_2, size=N)  # Hz\n",
    "    vib_damping = np.random.uniform(low=1e-5, high=1e-2, size=N)  # unitless\n",
    "    vib_phase = np.random.uniform(low=0.0, high=2 * np.pi, size=N)  # radians\n",
    "    return vib_amps, vib_freqs, vib_damping, vib_phase\n",
    "\n",
    "\n",
    "def make_vibe_data(vib_params=None, N=N_vib_app):\n",
    "    # adjusted so that each 'pos' mode is the solution to the DE\n",
    "    # x'' + 2k w0 x' + w0^2 x = 0 with w0 = 2pi*f/sqrt(1-k^2) \n",
    "    # (chosen so that vib_freqs matches up with the PSD freq)\n",
    "    if vib_params is None:\n",
    "        vib_amps, vib_freqs, vib_damping, vib_phase = make_vibe_params(N)\n",
    "    else:\n",
    "        vib_amps, vib_freqs, vib_damping, vib_phase = vib_params\n",
    "        N = vib_freqs.size\n",
    "\n",
    "    pos = sum([vib_amps[i] * np.cos(2 * np.pi * vib_freqs[i] * times - vib_phase[i])\n",
    "               * np.exp(-(vib_damping[i]/(1 - vib_damping[i]**2)) * 2 * np.pi * vib_freqs[i] * times) \n",
    "               for i in range(N)])\n",
    "\n",
    "    return pos\n",
    "\n",
    "params = make_vibe_params()\n",
    "truth = make_vibe_data(params)\n",
    "measurements = truth + np.random.normal(0, 0.06, truth.size)\n",
    "psd = get_psd(truth)\n",
    "psd_noisy = get_psd(measurements)"
   ]
  },
  {
   "cell_type": "code",
   "execution_count": 3,
   "metadata": {},
   "outputs": [],
   "source": [
    "def noise_filter(psd):\n",
    "    # takes in a PSD.\n",
    "    # returns a cleaned PSD with measurement noise hopefully removed.\n",
    "    ind = np.argmax(freqs > f_w)\n",
    "    assert ind != 0, \"didn't find a high enough frequency\"\n",
    "    avg_measurement_power = np.mean(psd[ind:])\n",
    "    measurement_noise_recovered = np.sqrt(f_sampling * avg_measurement_power)\n",
    "    psd -= avg_measurement_power\n",
    "\n",
    "    # this subtraction is problematic because it goes negative, so quick correction here.\n",
    "    # Want a better way of doing this.\n",
    "\n",
    "    for i, p in enumerate(psd):\n",
    "        if p < 0:\n",
    "            psd[i] = energy_cutoff\n",
    "            \n",
    "    # squelch: removing noise by applying a smoothing filter (convolution with [0.05, 0.1, 0.7, 0.1, 0.05])\n",
    "    conv_peak = 1\n",
    "    '''assert conv_peak <= 1, \"convolution must have unit gain\"\n",
    "    side = 1 - conv_peak\n",
    "    kernel = np.array([side / 6, side / 3, conv_peak, side / 3, side / 6])\n",
    "    c = kernel.size // 2\n",
    "    psd = np.convolve(psd, kernel)[c:-c]'''\n",
    "\n",
    "    # ad hoc low-pass filter\n",
    "    ind_cutoff = np.argmax(freqs > f_2)\n",
    "    psd[ind_cutoff:] = energy_cutoff * np.ones(len(psd) - ind_cutoff)  # or all zero?\n",
    "\n",
    "    # high pass filter removed because of important vibration data\n",
    "\n",
    "    # bring the peaks back to where they were\n",
    "    peak_ind = signal.find_peaks(psd, height=energy_cutoff)[0]\n",
    "    for i in peak_ind:\n",
    "        psd[i] = psd[i] / conv_peak\n",
    "\n",
    "    return psd"
   ]
  },
  {
   "cell_type": "code",
   "execution_count": 4,
   "metadata": {},
   "outputs": [
    {
     "ename": "NameError",
     "evalue": "name 'conv_peak' is not defined",
     "output_type": "error",
     "traceback": [
      "\u001b[0;31m---------------------------------------------------------------------------\u001b[0m",
      "\u001b[0;31mNameError\u001b[0m                                 Traceback (most recent call last)",
      "\u001b[0;32m<ipython-input-4-7f50993f8d87>\u001b[0m in \u001b[0;36m<module>\u001b[0;34m\u001b[0m\n\u001b[1;32m      2\u001b[0m \u001b[0mplt\u001b[0m\u001b[0;34m.\u001b[0m\u001b[0msemilogy\u001b[0m\u001b[0;34m(\u001b[0m\u001b[0mfreqs\u001b[0m\u001b[0;34m,\u001b[0m \u001b[0mpsd\u001b[0m\u001b[0;34m,\u001b[0m \u001b[0mlabel\u001b[0m\u001b[0;34m=\u001b[0m\u001b[0;34m\"Truth\"\u001b[0m\u001b[0;34m)\u001b[0m\u001b[0;34m\u001b[0m\u001b[0;34m\u001b[0m\u001b[0m\n\u001b[1;32m      3\u001b[0m \u001b[0;31m#plt.semilogy(freqs, psd_noisy, label=\"Noisy\")\u001b[0m\u001b[0;34m\u001b[0m\u001b[0;34m\u001b[0m\u001b[0;34m\u001b[0m\u001b[0m\n\u001b[0;32m----> 4\u001b[0;31m \u001b[0mplt\u001b[0m\u001b[0;34m.\u001b[0m\u001b[0msemilogy\u001b[0m\u001b[0;34m(\u001b[0m\u001b[0mfreqs\u001b[0m\u001b[0;34m,\u001b[0m \u001b[0mnoise_filter\u001b[0m\u001b[0;34m(\u001b[0m\u001b[0mpsd_noisy\u001b[0m\u001b[0;34m)\u001b[0m\u001b[0;34m,\u001b[0m \u001b[0mlabel\u001b[0m\u001b[0;34m=\u001b[0m\u001b[0;34m\"Denoised\"\u001b[0m\u001b[0;34m)\u001b[0m\u001b[0;34m\u001b[0m\u001b[0;34m\u001b[0m\u001b[0m\n\u001b[0m\u001b[1;32m      5\u001b[0m \u001b[0mplt\u001b[0m\u001b[0;34m.\u001b[0m\u001b[0mylim\u001b[0m\u001b[0;34m(\u001b[0m\u001b[0;36m1e-7\u001b[0m\u001b[0;34m,\u001b[0m \u001b[0;36m1\u001b[0m\u001b[0;34m)\u001b[0m\u001b[0;34m\u001b[0m\u001b[0;34m\u001b[0m\u001b[0m\n\u001b[1;32m      6\u001b[0m \u001b[0mplt\u001b[0m\u001b[0;34m.\u001b[0m\u001b[0mlegend\u001b[0m\u001b[0;34m(\u001b[0m\u001b[0;34m)\u001b[0m\u001b[0;34m\u001b[0m\u001b[0;34m\u001b[0m\u001b[0m\n",
      "\u001b[0;32m<ipython-input-3-12ca1ebf4f35>\u001b[0m in \u001b[0;36mnoise_filter\u001b[0;34m(psd)\u001b[0m\n\u001b[1;32m     24\u001b[0m     \u001b[0mpeak_ind\u001b[0m \u001b[0;34m=\u001b[0m \u001b[0msignal\u001b[0m\u001b[0;34m.\u001b[0m\u001b[0mfind_peaks\u001b[0m\u001b[0;34m(\u001b[0m\u001b[0mpsd\u001b[0m\u001b[0;34m,\u001b[0m \u001b[0mheight\u001b[0m\u001b[0;34m=\u001b[0m\u001b[0menergy_cutoff\u001b[0m\u001b[0;34m)\u001b[0m\u001b[0;34m[\u001b[0m\u001b[0;36m0\u001b[0m\u001b[0;34m]\u001b[0m\u001b[0;34m\u001b[0m\u001b[0;34m\u001b[0m\u001b[0m\n\u001b[1;32m     25\u001b[0m     \u001b[0;32mfor\u001b[0m \u001b[0mi\u001b[0m \u001b[0;32min\u001b[0m \u001b[0mpeak_ind\u001b[0m\u001b[0;34m:\u001b[0m\u001b[0;34m\u001b[0m\u001b[0;34m\u001b[0m\u001b[0m\n\u001b[0;32m---> 26\u001b[0;31m         \u001b[0mpsd\u001b[0m\u001b[0;34m[\u001b[0m\u001b[0mi\u001b[0m\u001b[0;34m]\u001b[0m \u001b[0;34m=\u001b[0m \u001b[0mpsd\u001b[0m\u001b[0;34m[\u001b[0m\u001b[0mi\u001b[0m\u001b[0;34m]\u001b[0m \u001b[0;34m/\u001b[0m \u001b[0mconv_peak\u001b[0m\u001b[0;34m\u001b[0m\u001b[0;34m\u001b[0m\u001b[0m\n\u001b[0m\u001b[1;32m     27\u001b[0m \u001b[0;34m\u001b[0m\u001b[0m\n\u001b[1;32m     28\u001b[0m     \u001b[0;32mreturn\u001b[0m \u001b[0mpsd\u001b[0m\u001b[0;34m\u001b[0m\u001b[0;34m\u001b[0m\u001b[0m\n",
      "\u001b[0;31mNameError\u001b[0m: name 'conv_peak' is not defined"
     ]
    },
    {
     "data": {
      "image/png": "[encoded data removed]",
      "text/plain": [
       "<Figure size 720x720 with 1 Axes>"
      ]
     },
     "metadata": {
      "needs_background": "light"
     },
     "output_type": "display_data"
    }
   ],
   "source": [
    "plt.figure(figsize=(10,10))\n",
    "plt.semilogy(freqs, psd, label=\"Truth\")\n",
    "#plt.semilogy(freqs, psd_noisy, label=\"Noisy\")\n",
    "plt.semilogy(freqs, noise_filter(psd_noisy), label=\"Denoised\")\n",
    "plt.ylim(1e-7, 1)\n",
    "plt.legend()"
   ]
  },
  {
   "cell_type": "code",
   "execution_count": null,
   "metadata": {},
   "outputs": [],
   "source": []
  }
 ],
 "metadata": {
  "kernelspec": {
   "display_name": "Python 3",
   "language": "python",
   "name": "python3"
  },
  "language_info": {
   "codemirror_mode": {
    "name": "ipython",
    "version": 3
   },
   "file_extension": ".py",
   "mimetype": "text/x-python",
   "name": "python",
   "nbconvert_exporter": "python",
   "pygments_lexer": "ipython3",
   "version": "3.7.4"
  }
 },
 "nbformat": 4,
 "nbformat_minor": 2
}
