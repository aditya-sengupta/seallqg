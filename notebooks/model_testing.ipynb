{
 "cells": [
  {
   "cell_type": "code",
   "execution_count": 367,
   "id": "da76c81d",
   "metadata": {},
   "outputs": [
    {
     "name": "stdout",
     "output_type": "stream",
     "text": [
      "The autoreload extension is already loaded. To reload it, use:\n",
      "  %reload_ext autoreload\n"
     ]
    }
   ],
   "source": [
    "from sealrtc import *\n",
    "import numpy as np\n",
    "from matplotlib import pyplot as plt\n",
    "from scipy import optimize as opt\n",
    "from scipy import signal\n",
    "import tqdm\n",
    "%load_ext autoreload\n",
    "%autoreload 2"
   ]
  },
  {
   "cell_type": "code",
   "execution_count": 370,
   "id": "5dd9fbba",
   "metadata": {},
   "outputs": [
    {
     "name": "stderr",
     "output_type": "stream",
     "text": [
      "100%|██████████| 999/999 [00:01<00:00, 574.95it/s]\n"
     ]
    },
    {
     "data": {
      "text/plain": [
       "[23.842546032196484, 28.812903329726392]"
      ]
     },
     "execution_count": 370,
     "metadata": {},
     "output_type": "execute_result"
    }
   ],
   "source": [
    "ol_values = np.load(joindata(\"openloop\", \"ol_f_1_z_stamp_03_11_2021_13_58_53.npy\"))\n",
    "dmc2wf = np.load(joindata(\"bestflats\", \"lodmc2wfe.npy\"))\n",
    "ol_values *= dmc2wf\n",
    "lqg = make_lqg_from_ol(ol_values[:,:2], model_atm=False)\n",
    "lqg.improvement(ol, integ)"
   ]
  },
  {
   "cell_type": "code",
   "execution_count": null,
   "id": "798554de",
   "metadata": {},
   "outputs": [],
   "source": []
  }
 ],
 "metadata": {
  "interpreter": {
   "hash": "081dde53712984313b8a10449ef9d9c0db8fb3a7cd70704890f333f190b8e93e"
  },
  "kernelspec": {
   "display_name": "Python 3.8.5 64-bit",
   "language": "python",
   "name": "python3"
  },
  "language_info": {
   "codemirror_mode": {
    "name": "ipython",
    "version": 3
   },
   "file_extension": ".py",
   "mimetype": "text/x-python",
   "name": "python",
   "nbconvert_exporter": "python",
   "pygments_lexer": "ipython3",
   "version": "3.9.7"
  }
 },
 "nbformat": 4,
 "nbformat_minor": 5
}
