{
 "cells": [
  {
   "cell_type": "code",
   "execution_count": 101,
   "id": "da76c81d",
   "metadata": {},
   "outputs": [
    {
     "name": "stdout",
     "output_type": "stream",
     "text": [
      "The autoreload extension is already loaded. To reload it, use:\n",
      "  %reload_ext autoreload\n"
     ]
    }
   ],
   "source": [
    "from sealrtc import *\n",
    "import numpy as np\n",
    "from matplotlib import pyplot as plt\n",
    "from scipy import optimize as opt\n",
    "from scipy import signal\n",
    "import tqdm\n",
    "%load_ext autoreload\n",
    "%autoreload 2"
   ]
  },
  {
   "cell_type": "code",
   "execution_count": null,
   "id": "5dd9fbba",
   "metadata": {},
   "outputs": [],
   "source": [
    "ol_values = np.load(joindata(\"openloop\", \"ol_f_1_z_stamp_03_11_2021_13_58_53.npy\"))\n",
    "dmc2wf = np.load(joindata(\"bestflats\", \"lodmc2wfe.npy\"))\n",
    "ol_values *= dmc2wf\n",
    "fs = 100\n",
    "nsteps = 10000\n",
    "ident = SystemIdentifier(ol_values, fs=fs, N_vib_max=1)\n",
    "klqg = ident.make_klqg_from_openloop()"
   ]
  },
  {
   "cell_type": "code",
   "execution_count": 37,
   "id": "0696217e",
   "metadata": {},
   "outputs": [
    {
     "data": {
      "text/plain": [
       "[<matplotlib.lines.Line2D at 0x12a2b3760>]"
      ]
     },
     "execution_count": 37,
     "metadata": {},
     "output_type": "execute_result"
    },
    {
     "data": {
      "image/png": "[encoded data removed]",
      "text/plain": [
       "<Figure size 432x288 with 1 Axes>"
      ]
     },
     "metadata": {
      "needs_background": "light"
     },
     "output_type": "display_data"
    }
   ],
   "source": [
    "t, y = multivib(t=100, ws=2*np.pi*np.array([20]), ks=[0], sigmas=[0], dt=0.01)\n",
    "f, p = genpsd(y, dt=0.01)\n",
    "plt.loglog(f, p)"
   ]
  },
  {
   "cell_type": "code",
   "execution_count": 38,
   "id": "130c7197",
   "metadata": {},
   "outputs": [
    {
     "data": {
      "text/plain": [
       "array([20.01953125])"
      ]
     },
     "execution_count": 38,
     "metadata": {},
     "output_type": "execute_result"
    }
   ],
   "source": [
    "find_psd_peaks(f, p)"
   ]
  },
  {
   "cell_type": "code",
   "execution_count": 218,
   "id": "ee18fae0",
   "metadata": {},
   "outputs": [],
   "source": [
    "def model_psd(freqs, f, k, sigma):\n",
    "    phase = 2 * np.pi * freqs / fs\n",
    "    a1, a2 = vib_coeffs(f, k)\n",
    "    denom = np.abs(1 - a1 * np.exp(-1j * phase) - a2 * np.exp(-2j * phase))\n",
    "    return np.log10(sigma ** 2 / fs / denom ** 2)\n"
   ]
  },
  {
   "cell_type": "code",
   "execution_count": 120,
   "id": "930620a6",
   "metadata": {},
   "outputs": [
    {
     "name": "stderr",
     "output_type": "stream",
     "text": [
      "100%|██████████| 9998/9998 [00:00<00:00, 83028.06it/s]\n"
     ]
    }
   ],
   "source": [
    "fcen = 20\n",
    "kcen = 1e-4\n",
    "s = 0.01\n",
    "a1, a2 = vib_coeffs(fcen, kcen, fs=fs)\n",
    "nsteps = 10000\n",
    "x = np.zeros(nsteps,)\n",
    "x[0], x[1] = np.random.normal(0, s, (2,))\n",
    "for i in tqdm.trange(2, nsteps):\n",
    "    x[i] = a1 * x[i-1] + a2 * x[i-2] + np.random.normal(0, s)\n",
    "f, p = genpsd(x, dt=1/fs)"
   ]
  },
  {
   "cell_type": "code",
   "execution_count": 147,
   "id": "7e67823b",
   "metadata": {},
   "outputs": [],
   "source": [
    "\"\"\"def obj(X, fcen, freqs=f):\n",
    "    k, sigma = X\n",
    "    #return (model_psd(freqs, fcen, k, sigma) - p)\n",
    "    f = 10 * np.log10(model_psd(freqs, fcen, k, sigma)) - 10 * np.log10(p)\n",
    "    return f\n",
    "\n",
    "def jac(X, fcen, freqs=f, fs=fs):\n",
    "    k, sigma = X\n",
    "    w = 2 * np.pi * freqs\n",
    "    N = len(w)\n",
    "    a1, a2 = vib_coeffs(fcen, k)\n",
    "    Z = a1 ** 2 + a2 ** 2 + 2 * a1 * a2 * np.cos(w) - 2 * a1 * np.cos(w) - 2 * a2 * np.cos(2 * w)\n",
    "    df_da1 = (10 / np.log(10)) * (1/Z) * (2*a1 + 2*a2 * np.cos(w) - 2*np.cos(w))\n",
    "    df_da2 = (10 / np.log(10)) * (1/Z) * (2*a2 + 2*a1 * np.cos(w) - 2*np.cos(2*w))\n",
    "    arg = 2 * np.pi * (fcen / fs) * np.sqrt(1 - k ** 2)\n",
    "    da1_dk = -4 * np.pi * (fcen / fs) * np.cos(arg)\n",
    "    da1_dk -= 4 * np.pi * (fcen / fs) * k * np.sqrt(1 - k ** 2) * np.sin(arg)\n",
    "    da1_dk *= np.exp(-2 * k * np.pi * fcen / fs)\n",
    "    da2_dk = 4 * np.pi * (fcen / fs) * np.exp(-4 * k * np.pi * fcen / fs)\n",
    "    df_dk = df_da1 * da1_dk + df_da2 * da2_dk\n",
    "    df_dsigma = -((10 / np.log(10)) / sigma) * np.ones(N)\n",
    "    return np.column_stack((df_dk, df_dsigma)) \n",
    "    \"\"\""
   ]
  },
  {
   "cell_type": "code",
   "execution_count": 223,
   "id": "0fed2464",
   "metadata": {},
   "outputs": [],
   "source": [
    "from lmfit import Model, Parameters\n",
    "df = np.max(np.diff(f))\n",
    "fit_params = Parameters()\n",
    "fit_params.add('f', value=fcen, min=fcen-df, max=fcen+df)\n",
    "fit_params.add('k', value=1e-4, min=1e-10, max=1)\n",
    "fit_params.add('sigma', value=1e-1, min=1e-10, max=100)"
   ]
  },
  {
   "cell_type": "code",
   "execution_count": 224,
   "id": "4526ccb8",
   "metadata": {},
   "outputs": [
    {
     "name": "stdout",
     "output_type": "stream",
     "text": [
      "[[Model]]\n",
      "    Model(model_psd)\n",
      "[[Fit Statistics]]\n",
      "    # fitting method   = leastsq\n",
      "    # function evals   = 84\n",
      "    # data points      = 1024\n",
      "    # variables        = 3\n",
      "    chi-square         = 39.5536505\n",
      "    reduced chi-square = 0.03874011\n",
      "    Akaike info crit   = -3325.90535\n",
      "    Bayesian info crit = -3311.11093\n",
      "[[Variables]]\n",
      "    f:      20.0077121 +/- 0.00499823 (0.02%) (init = 20)\n",
      "    k:      1.1446e-07 +/- 83.8667256 (73274164970.30%) (init = 0.0001)\n",
      "    sigma:  0.01356409 +/- 0.02704235 (199.37%) (init = 0.1)\n",
      "[[Correlations]] (unreported correlations are < 0.100)\n",
      "    C(k, sigma) = 1.000\n",
      "    C(f, k)     = 0.874\n",
      "    C(f, sigma) = 0.874\n"
     ]
    }
   ],
   "source": [
    "psd_model = Model(model_psd)\n",
    "res = psd_model.fit(np.log10(p), fit_params, freqs=f)\n",
    "print(res.fit_report())"
   ]
  },
  {
   "cell_type": "code",
   "execution_count": 225,
   "id": "cb94a311",
   "metadata": {},
   "outputs": [
    {
     "data": {
      "image/png": "[encoded data removed]",
      "text/plain": [
       "<Figure size 432x288 with 1 Axes>"
      ]
     },
     "metadata": {
      "needs_background": "light"
     },
     "output_type": "display_data"
    }
   ],
   "source": [
    "plt.loglog(f, p, 'o')\n",
    "plt.loglog(f, res.init_fit, '--', label='initial fit')\n",
    "plt.loglog(f, res.best_fit, '-', label='best fit')\n",
    "plt.legend()\n",
    "plt.show()"
   ]
  },
  {
   "cell_type": "code",
   "execution_count": 232,
   "id": "252470b2",
   "metadata": {},
   "outputs": [
    {
     "data": {
      "text/plain": [
       "<matplotlib.legend.Legend at 0x12f0cde50>"
      ]
     },
     "execution_count": 232,
     "metadata": {},
     "output_type": "execute_result"
    },
    {
     "data": {
      "image/png": "[encoded data removed]",
      "text/plain": [
       "<Figure size 432x288 with 1 Axes>"
      ]
     },
     "metadata": {
      "needs_background": "light"
     },
     "output_type": "display_data"
    }
   ],
   "source": [
    "plt.loglog(f, p, label=\"Actual\")\n",
    "ph = 2 * np.pi * f / fs\n",
    "denom = np.abs(1 - a1 * np.exp(-1j * ph) - a2 * np.exp(-2j * ph))\n",
    "plt.loglog(f, s ** 2 / fs / denom ** 2, label=f\"Ideal model\")\n",
    "plt.loglog(f, 10 ** res.best_fit, label=f\"Optimized model\")\n",
    "plt.legend()"
   ]
  },
  {
   "cell_type": "code",
   "execution_count": 228,
   "id": "c85a0fca",
   "metadata": {},
   "outputs": [
    {
     "data": {
      "text/plain": [
       "array([-6.28087966, -6.28086191, -6.28083233, ..., -6.83582893,\n",
       "       -6.8358383 , -6.83584142])"
      ]
     },
     "execution_count": 228,
     "metadata": {},
     "output_type": "execute_result"
    }
   ],
   "source": [
    "psd_model.eval(freqs=f, f=fcen, k=kcen, sigma=s)"
   ]
  },
  {
   "cell_type": "code",
   "execution_count": 226,
   "id": "cbb75ea8",
   "metadata": {},
   "outputs": [
    {
     "name": "stdout",
     "output_type": "stream",
     "text": [
      "Help on method eval in module lmfit.model:\n",
      "\n",
      "eval(params=None, **kwargs) method of lmfit.model.Model instance\n",
      "    Evaluate the model with supplied parameters and keyword arguments.\n",
      "    \n",
      "    Parameters\n",
      "    -----------\n",
      "    params : Parameters, optional\n",
      "        Parameters to use in Model.\n",
      "    **kwargs : optional\n",
      "        Additional keyword arguments to pass to model function.\n",
      "    \n",
      "    Returns\n",
      "    -------\n",
      "    numpy.ndarray, float, int or complex\n",
      "        Value of model given the parameters and other arguments.\n",
      "    \n",
      "    Notes\n",
      "    -----\n",
      "    1. if `params` is None, the values for all parameters are expected\n",
      "    to be provided as keyword arguments. If `params` is given, and a\n",
      "    keyword argument for a parameter value is also given, the keyword\n",
      "    argument will be used.\n",
      "    \n",
      "    2. all non-parameter arguments for the model function, **including\n",
      "    all the independent variables** will need to be passed in using\n",
      "    keyword arguments.\n",
      "    \n",
      "    3. The return type depends on the model function. For many of the\n",
      "    built-models it is a `numpy.ndarray`, with the exception of\n",
      "    `ConstantModel` and `ComplexConstantModel`, which return a `float`/`int`\n",
      "    or `complex` value.\n",
      "\n"
     ]
    }
   ],
   "source": [
    "help(psd_model.eval)"
   ]
  },
  {
   "cell_type": "code",
   "execution_count": null,
   "id": "d8bf5e4d",
   "metadata": {},
   "outputs": [],
   "source": []
  }
 ],
 "metadata": {
  "interpreter": {
   "hash": "081dde53712984313b8a10449ef9d9c0db8fb3a7cd70704890f333f190b8e93e"
  },
  "kernelspec": {
   "display_name": "Python 3.8.5 64-bit",
   "language": "python",
   "name": "python3"
  },
  "language_info": {
   "codemirror_mode": {
    "name": "ipython",
    "version": 3
   },
   "file_extension": ".py",
   "mimetype": "text/x-python",
   "name": "python",
   "nbconvert_exporter": "python",
   "pygments_lexer": "ipython3",
   "version": "3.9.7"
  }
 },
 "nbformat": 4,
 "nbformat_minor": 5
}
