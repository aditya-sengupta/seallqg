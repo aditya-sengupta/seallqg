{
 "cells": [
  {
   "cell_type": "code",
   "execution_count": 101,
   "id": "da76c81d",
   "metadata": {},
   "outputs": [
    {
     "name": "stdout",
     "output_type": "stream",
     "text": [
      "The autoreload extension is already loaded. To reload it, use:\n",
      "  %reload_ext autoreload\n"
     ]
    }
   ],
   "source": [
    "from sealrtc import *\n",
    "import numpy as np\n",
    "from matplotlib import pyplot as plt\n",
    "from scipy import optimize as opt\n",
    "from scipy import signal\n",
    "import tqdm\n",
    "%load_ext autoreload\n",
    "%autoreload 2"
   ]
  },
  {
   "cell_type": "code",
   "execution_count": null,
   "id": "5dd9fbba",
   "metadata": {},
   "outputs": [],
   "source": [
    "ol_values = np.load(joindata(\"openloop\", \"ol_f_1_z_stamp_03_11_2021_13_58_53.npy\"))\n",
    "dmc2wf = np.load(joindata(\"bestflats\", \"lodmc2wfe.npy\"))\n",
    "ol_values *= dmc2wf\n",
    "fs = 100\n",
    "nsteps = 10000\n",
    "ident = SystemIdentifier(ol_values, fs=fs, N_vib_max=1)\n",
    "klqg = ident.make_klqg_from_openloop()"
   ]
  },
  {
   "cell_type": "code",
   "execution_count": 261,
   "id": "0696217e",
   "metadata": {},
   "outputs": [
    {
     "data": {
      "text/plain": [
       "[<matplotlib.lines.Line2D at 0x12fc7d2e0>]"
      ]
     },
     "execution_count": 261,
     "metadata": {},
     "output_type": "execute_result"
    },
    {
     "data": {
      "image/png": "[encoded data removed]",
      "text/plain": [
       "<Figure size 432x288 with 1 Axes>"
      ]
     },
     "metadata": {
      "needs_background": "light"
     },
     "output_type": "display_data"
    }
   ],
   "source": [
    "t, y = multivib(t=100, ws=2*np.pi*np.array([10, 20]), ks=[1e-3, 1e-4], sigmas=[0.01, 0.001], dt=0.01)\n",
    "f, p = genpsd(y, dt=0.01)\n",
    "plt.loglog(f, p)"
   ]
  },
  {
   "cell_type": "code",
   "execution_count": 262,
   "id": "130c7197",
   "metadata": {},
   "outputs": [
    {
     "data": {
      "text/plain": [
       "array([20.01953125, 10.00976562])"
      ]
     },
     "execution_count": 262,
     "metadata": {},
     "output_type": "execute_result"
    }
   ],
   "source": [
    "find_psd_peaks(f, p)"
   ]
  },
  {
   "cell_type": "code",
   "execution_count": 218,
   "id": "ee18fae0",
   "metadata": {},
   "outputs": [],
   "source": [
    "def model_psd(freqs, f, k, sigma):\n",
    "    phase = 2 * np.pi * freqs / fs\n",
    "    a1, a2 = vib_coeffs(f, k)\n",
    "    denom = np.abs(1 - a1 * np.exp(-1j * phase) - a2 * np.exp(-2j * phase))\n",
    "    return np.log10(sigma ** 2 / fs / denom ** 2)\n"
   ]
  },
  {
   "cell_type": "code",
   "execution_count": 238,
   "id": "930620a6",
   "metadata": {},
   "outputs": [
    {
     "name": "stderr",
     "output_type": "stream",
     "text": [
      "100%|██████████| 9998/9998 [00:00<00:00, 107336.77it/s]\n"
     ]
    }
   ],
   "source": [
    "fcen = 20\n",
    "kcen = 1e-3\n",
    "s = 0.001\n",
    "a1, a2 = vib_coeffs(fcen, kcen, fs=fs)\n",
    "nsteps = 10000\n",
    "x = np.zeros(nsteps,)\n",
    "x[0], x[1] = np.random.normal(0, s, (2,))\n",
    "for i in tqdm.trange(2, nsteps):\n",
    "    x[i] = a1 * x[i-1] + a2 * x[i-2] + np.random.normal(0, s)\n",
    "f, p = genpsd(x, dt=1/fs)"
   ]
  },
  {
   "cell_type": "code",
   "execution_count": 147,
   "id": "7e67823b",
   "metadata": {},
   "outputs": [],
   "source": [
    "\"\"\"def obj(X, fcen, freqs=f):\n",
    "    k, sigma = X\n",
    "    #return (model_psd(freqs, fcen, k, sigma) - p)\n",
    "    f = 10 * np.log10(model_psd(freqs, fcen, k, sigma)) - 10 * np.log10(p)\n",
    "    return f\n",
    "\n",
    "def jac(X, fcen, freqs=f, fs=fs):\n",
    "    k, sigma = X\n",
    "    w = 2 * np.pi * freqs\n",
    "    N = len(w)\n",
    "    a1, a2 = vib_coeffs(fcen, k)\n",
    "    Z = a1 ** 2 + a2 ** 2 + 2 * a1 * a2 * np.cos(w) - 2 * a1 * np.cos(w) - 2 * a2 * np.cos(2 * w)\n",
    "    df_da1 = (10 / np.log(10)) * (1/Z) * (2*a1 + 2*a2 * np.cos(w) - 2*np.cos(w))\n",
    "    df_da2 = (10 / np.log(10)) * (1/Z) * (2*a2 + 2*a1 * np.cos(w) - 2*np.cos(2*w))\n",
    "    arg = 2 * np.pi * (fcen / fs) * np.sqrt(1 - k ** 2)\n",
    "    da1_dk = -4 * np.pi * (fcen / fs) * np.cos(arg)\n",
    "    da1_dk -= 4 * np.pi * (fcen / fs) * k * np.sqrt(1 - k ** 2) * np.sin(arg)\n",
    "    da1_dk *= np.exp(-2 * k * np.pi * fcen / fs)\n",
    "    da2_dk = 4 * np.pi * (fcen / fs) * np.exp(-4 * k * np.pi * fcen / fs)\n",
    "    df_dk = df_da1 * da1_dk + df_da2 * da2_dk\n",
    "    df_dsigma = -((10 / np.log(10)) / sigma) * np.ones(N)\n",
    "    return np.column_stack((df_dk, df_dsigma)) \n",
    "    \"\"\""
   ]
  },
  {
   "cell_type": "code",
   "execution_count": 239,
   "id": "0fed2464",
   "metadata": {},
   "outputs": [],
   "source": [
    "from lmfit import Model, Parameters\n",
    "df = np.max(np.diff(f))\n",
    "fit_params = Parameters()\n",
    "fit_params.add('f', value=fcen, min=fcen-df, max=fcen+df)\n",
    "fit_params.add('k', value=1e-4, min=1e-10, max=1)\n",
    "fit_params.add('sigma', value=1e-1, min=1e-10, max=100)"
   ]
  },
  {
   "cell_type": "code",
   "execution_count": 240,
   "id": "4526ccb8",
   "metadata": {},
   "outputs": [
    {
     "name": "stdout",
     "output_type": "stream",
     "text": [
      "[[Model]]\n",
      "    Model(model_psd)\n",
      "[[Fit Statistics]]\n",
      "    # fitting method   = leastsq\n",
      "    # function evals   = 34\n",
      "    # data points      = 1024\n",
      "    # variables        = 3\n",
      "    chi-square         = 35.8092818\n",
      "    reduced chi-square = 0.03507275\n",
      "    Akaike info crit   = -3427.74303\n",
      "    Bayesian info crit = -3412.94862\n",
      "[[Variables]]\n",
      "    f:      19.9959586 +/- 0.00406504 (0.02%) (init = 20)\n",
      "    k:      6.4314e-04 +/- 4.4905e-04 (69.82%) (init = 0.0001)\n",
      "    sigma:  0.00134688 +/- 9.0784e-06 (0.67%) (init = 0.1)\n"
     ]
    }
   ],
   "source": [
    "psd_model = Model(model_psd)\n",
    "res = psd_model.fit(np.log10(p), fit_params, freqs=f)\n",
    "print(res.fit_report())"
   ]
  },
  {
   "cell_type": "code",
   "execution_count": 243,
   "id": "252470b2",
   "metadata": {},
   "outputs": [
    {
     "data": {
      "text/plain": [
       "<matplotlib.legend.Legend at 0x12ff0c490>"
      ]
     },
     "execution_count": 243,
     "metadata": {},
     "output_type": "execute_result"
    },
    {
     "data": {
      "image/png": "[encoded data removed]",
      "text/plain": [
       "<Figure size 432x288 with 1 Axes>"
      ]
     },
     "metadata": {
      "needs_background": "light"
     },
     "output_type": "display_data"
    }
   ],
   "source": [
    "plt.loglog(f, p, label=\"Actual\")\n",
    "ph = 2 * np.pi * f / fs\n",
    "denom = np.abs(1 - a1 * np.exp(-1j * ph) - a2 * np.exp(-2j * ph))\n",
    "plt.loglog(f, s ** 2 / fs / denom ** 2, label=f\"Ideal model\")\n",
    "plt.loglog(f, 10 ** res.best_fit, label=f\"Fit model\")\n",
    "plt.legend()"
   ]
  },
  {
   "cell_type": "code",
   "execution_count": 256,
   "id": "1247327f",
   "metadata": {},
   "outputs": [
    {
     "data": {
      "text/plain": [
       "0.0006351551266425559"
      ]
     },
     "execution_count": 256,
     "metadata": {},
     "output_type": "execute_result"
    }
   ],
   "source": [
    "np.sqrt(np.mean(100 * p[f > 100 / 3]))"
   ]
  },
  {
   "cell_type": "code",
   "execution_count": null,
   "id": "d0c8838a",
   "metadata": {},
   "outputs": [],
   "source": []
  }
 ],
 "metadata": {
  "interpreter": {
   "hash": "081dde53712984313b8a10449ef9d9c0db8fb3a7cd70704890f333f190b8e93e"
  },
  "kernelspec": {
   "display_name": "Python 3.8.5 64-bit",
   "language": "python",
   "name": "python3"
  },
  "language_info": {
   "codemirror_mode": {
    "name": "ipython",
    "version": 3
   },
   "file_extension": ".py",
   "mimetype": "text/x-python",
   "name": "python",
   "nbconvert_exporter": "python",
   "pygments_lexer": "ipython3",
   "version": "3.9.7"
  }
 },
 "nbformat": 4,
 "nbformat_minor": 5
}
