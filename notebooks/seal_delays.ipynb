{
 "cells": [
  {
   "cell_type": "markdown",
   "id": "561588a0",
   "metadata": {},
   "source": [
    "# Aim\n",
    "Characterize the SEAL closed-loop delay and try to build that into the controller.\n"
   ]
  },
  {
   "cell_type": "code",
   "execution_count": 1,
   "id": "0b19c3b5",
   "metadata": {},
   "outputs": [
    {
     "name": "stdout",
     "output_type": "stream",
     "text": [
      "Running in simulation mode.\n",
      "Updated the flat image.\n"
     ]
    }
   ],
   "source": [
    "import numpy as np\n",
    "from matplotlib import pyplot as plt\n",
    "import sys\n",
    "import re\n",
    "sys.path.append(\"..\")\n",
    "from src import *\n",
    "fs = 100"
   ]
  },
  {
   "cell_type": "code",
   "execution_count": 164,
   "id": "527a708a",
   "metadata": {},
   "outputs": [],
   "source": [
    "def stamp_to_seconds(t):\n",
    "    h, m, s, ms = [int(x) for x in re.search(\"(\\d+):(\\d+):(\\d+),(\\d+)\", t).groups()]\n",
    "    return 3600 * h + 60 * m + s + 0.001 * ms"
   ]
  },
  {
   "cell_type": "code",
   "execution_count": 152,
   "id": "a139191b",
   "metadata": {},
   "outputs": [],
   "source": [
    "exposures = []\n",
    "states = []\n",
    "dmcs = []\n",
    "no_delay_fnames = [\"01_06\", \"01_35\", \"02_15\", \"03_01\"]\n",
    "dt_o10_fnames = [\"05_56\", \"06_37\", \"06_54\", \"07_12\"]\n",
    "dt_o5_fnames = [\"08_08\", \"08_25\", \"08_41\", \"08_59\"]\n",
    "dt_o2_fnames = [\"21_10\", \"21_30\", \"21_53\", \"22_13\", \"24_51\", \"25_37\"]\n",
    "dt_o50_fnames = [\"26_41\", \"27_28\", \"27_44\", \"28_28\", \"29_03\", \"30_04\"]\n",
    "dt_o100_fnames = [\"31_36\", \"32_07\", \"32_46\", \"34_30\"]\n",
    "for fname in dt_o50_fnames:\n",
    "    seen_state_before = False\n",
    "    temp_exposures = []\n",
    "    with open(joindata(\"log\", f\"log_13_11_2021_04_{fname}.log\")) as file:\n",
    "        for line in file:\n",
    "            time = re.search(\"\\d+:\\d+:\\d+,\\d+\", line)[0]\n",
    "            seconds = stamp_to_seconds(time)\n",
    "            event = re.search(\"INFO \\| (.+)\", line)[1]\n",
    "            if event.startswith(\"Exposure\"):\n",
    "                exposures.append(seconds)\n",
    "            elif event.startswith(\"state\"):\n",
    "                states.append(seconds)\n",
    "            elif event.startswith(\"DMC\"):\n",
    "                dmcs.append(seconds)\n",
    "\n",
    "t0 = exposures[0]\n",
    "exposures = np.array(exposures) - t0\n",
    "states = np.array(states) - t0\n",
    "dmcs = np.array(dmcs) - t0"
   ]
  },
  {
   "cell_type": "code",
   "execution_count": 160,
   "id": "98201880",
   "metadata": {},
   "outputs": [
    {
     "data": {
      "text/plain": [
       "([], [])"
      ]
     },
     "execution_count": 160,
     "metadata": {},
     "output_type": "execute_result"
    },
    {
     "data": {
      "image/png": "[encoded data removed]",
      "text/plain": [
       "<Figure size 720x576 with 1 Axes>"
      ]
     },
     "metadata": {
      "needs_background": "light"
     },
     "output_type": "display_data"
    }
   ],
   "source": [
    "nstart = 300\n",
    "npoints = 30\n",
    "plt.figure(figsize=(10,8))\n",
    "plt.scatter(exposures[nstart:nstart+npoints], 1.5*np.ones_like(exposures[nstart:nstart+npoints]), label=\"exposures\")\n",
    "plt.scatter(states[nstart:nstart+npoints], np.ones_like(states[nstart:nstart+npoints]), label=\"states\")\n",
    "plt.scatter(dmcs[nstart:nstart+npoints], 0.5*np.ones_like(dmcs[nstart:nstart+npoints]), label=\"dmcs\")\n",
    "min_time = exposures[nstart]\n",
    "max_time = dmcs[nstart+npoints-1]\n",
    "for v in np.arange(np.round(min_time, decimals=2)-0.01, np.round(max_time, decimals=2)+0.02, 0.01):\n",
    "    plt.axvline(v, color='k')\n",
    "plt.title(\"SEAL schedule observations\")\n",
    "plt.xlabel(\"Time (seconds)\")\n",
    "plt.yticks([])\n",
    "#plt.legend()"
   ]
  },
  {
   "cell_type": "code",
   "execution_count": 161,
   "id": "811540fb",
   "metadata": {},
   "outputs": [
    {
     "data": {
      "text/plain": [
       "(4002, 4002, 4002)"
      ]
     },
     "execution_count": 161,
     "metadata": {},
     "output_type": "execute_result"
    }
   ],
   "source": [
    "len(exposures), len(states), len(dmcs)"
   ]
  },
  {
   "cell_type": "code",
   "execution_count": 162,
   "id": "b325d7bd",
   "metadata": {},
   "outputs": [],
   "source": [
    "if len(exposures) > len(states):\n",
    "    diff = len(exposures) - len(states)\n",
    "    means = np.zeros(diff)\n",
    "    for i in range(diff):\n",
    "        delay_candidate = states - exposures[i:i+len(states)]\n",
    "        if np.any(delay_candidate < 0):\n",
    "            means[i] = np.inf\n",
    "        else:\n",
    "            means[i] = np.mean(delay_candidate)\n",
    "    means[means < 0] = np.inf\n",
    "    offset = np.argmin(means)\n",
    "elif len(exposures) < len(states):\n",
    "    states = states[-len(exposures):]\n",
    "    dmcs = dmcs[-len(exposures):]\n",
    "measure_delays = (states - exposures[offset:offset+len(states)]) * fs\n",
    "num_meas_bins = int(max(measure_delays) * 1000 / fs) + 1\n",
    "control_delays = (dmcs - states) * fs\n",
    "num_cont_bins = int(max(control_delays) * 1000 / fs) + 1"
   ]
  },
  {
   "cell_type": "code",
   "execution_count": 163,
   "id": "2743e052",
   "metadata": {},
   "outputs": [
    {
     "data": {
      "text/plain": [
       "Text(0.5, 1.0, 'Controller frame delay')"
      ]
     },
     "execution_count": 163,
     "metadata": {},
     "output_type": "execute_result"
    },
    {
     "data": {
      "image/png": "[encoded data removed]",
      "text/plain": [
       "<Figure size 864x432 with 2 Axes>"
      ]
     },
     "metadata": {
      "needs_background": "light"
     },
     "output_type": "display_data"
    }
   ],
   "source": [
    "fig, axs = plt.subplots(1,2, figsize=(12,6))\n",
    "axs[0].hist(measure_delays[np.abs(measure_delays) < 10], bins=min(50, num_meas_bins));\n",
    "axs[0].set_xlabel(\"Delay between measurement and DM command (#frames)\")\n",
    "axs[0].set_ylabel(\"Count\")\n",
    "axs[0].set_title(\"Measurement frame delay\")\n",
    "axs[1].hist(control_delays, bins=min(100, num_cont_bins));\n",
    "axs[1].set_xlabel(\"Delay between exposure and measurement (#frames)\")\n",
    "axs[1].set_ylabel(\"Count\")\n",
    "axs[1].set_title(\"Controller frame delay\")"
   ]
  },
  {
   "cell_type": "code",
   "execution_count": null,
   "id": "42dd1bb8",
   "metadata": {},
   "outputs": [],
   "source": []
  }
 ],
 "metadata": {
  "interpreter": {
   "hash": "081dde53712984313b8a10449ef9d9c0db8fb3a7cd70704890f333f190b8e93e"
  },
  "kernelspec": {
   "display_name": "Python 3.9.7 64-bit ('seal': conda)",
   "name": "python3"
  },
  "language_info": {
   "codemirror_mode": {
    "name": "ipython",
    "version": 3
   },
   "file_extension": ".py",
   "mimetype": "text/x-python",
   "name": "python",
   "nbconvert_exporter": "python",
   "pygments_lexer": "ipython3",
   "version": "3.9.7"
  }
 },
 "nbformat": 4,
 "nbformat_minor": 5
}
