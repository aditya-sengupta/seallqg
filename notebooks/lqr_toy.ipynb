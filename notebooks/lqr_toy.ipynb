{
 "cells": [
  {
   "cell_type": "markdown",
   "source": [
    "# Aim\n",
    "\n",
    "Solve an LQR toy problem to see what to do"
   ],
   "metadata": {}
  },
  {
   "cell_type": "code",
   "execution_count": 13,
   "source": [
    "import numpy as np\n",
    "from scipy import linalg as la\n",
    "from scipy import stats as st\n",
    "from matplotlib import pyplot as plt\n",
    "\n",
    "inv = np.linalg.inv\n",
    "mvn = st.multivariate_normal\n",
    "rms = lambda data: round(np.sqrt(np.mean((data - np.mean(data)) ** 2)), 4)"
   ],
   "outputs": [],
   "metadata": {}
  },
  {
   "cell_type": "code",
   "execution_count": 19,
   "source": [
    "s = 2\n",
    "m = 1\n",
    "p = 1\n",
    "nsteps = 10000"
   ],
   "outputs": [],
   "metadata": {}
  },
  {
   "cell_type": "code",
   "execution_count": 34,
   "source": [
    "A = np.array([[2, -1], [1, 0]])\n",
    "B = np.random.randn(s,m)\n",
    "C = np.random.randn(p,s)\n",
    "Q = np.eye(s)\n",
    "R = np.eye(m)\n",
    "W = 0.5 * np.eye(s)\n",
    "V = 10 * np.eye(p)\n",
    "process_dist = mvn(cov=W)\n",
    "measure_dist = mvn(cov=V)\n",
    "x = process_dist.rvs()"
   ],
   "outputs": [],
   "metadata": {}
  },
  {
   "cell_type": "code",
   "execution_count": 27,
   "source": [
    "kalman_cov = la.solve_discrete_are(A.T, C.T, W, V)\n",
    "kalman_gain = kalman_cov @ C.T @ inv(C @ kalman_cov @ C.T + V)\n",
    "lqr_cov = la.solve_discrete_are(A, B, Q, R)\n",
    "lqr_gain = -inv(R + B.T @ lqr_cov @ B) @ B.T @ lqr_cov @ A"
   ],
   "outputs": [],
   "metadata": {}
  },
  {
   "cell_type": "code",
   "execution_count": 37,
   "source": [
    "states_un = np.zeros((nsteps, s))\n",
    "states_un[0,:] = x\n",
    "for i in range(1, nsteps):\n",
    "    states_un[i,:] = A @ states_un[i-1,:] + process_dist.rvs()\n",
    "    \n",
    "rms(states_un @ C.T)"
   ],
   "outputs": [
    {
     "output_type": "execute_result",
     "data": {
      "text/plain": [
       "88094.0103"
      ]
     },
     "metadata": {},
     "execution_count": 37
    }
   ],
   "metadata": {
    "scrolled": true
   }
  },
  {
   "cell_type": "code",
   "execution_count": 40,
   "source": [
    "states = np.zeros((nsteps, s))\n",
    "states_hat = np.zeros((nsteps, s))\n",
    "states[0,:] = x\n",
    "states_hat[0,:] = x\n",
    "for i in range(1, nsteps):\n",
    "    x = states[i-1,:]\n",
    "    x_hat = states_hat[i-1,:]\n",
    "    u = -lqr_gain @ x_hat\n",
    "    y = C @ (A @ x + B @ u) + measure_dist.rvs()\n",
    "    innovation = y - C @ (A @ x_hat + B @ u)\n",
    "    states_hat[i,:] = A @ x_hat + B @ u + kalman_gain @ innovation\n",
    "    states[i,:] = states[i,:] + process_dist.rvs()\n",
    "    \n",
    "rms(states @ C.T)"
   ],
   "outputs": [
    {
     "output_type": "stream",
     "name": "stderr",
     "text": [
      "<ipython-input-40-13e19045e37c>:8: RuntimeWarning: overflow encountered in matmul\n",
      "  u = -lqr_gain @ x_hat\n",
      "<ipython-input-40-13e19045e37c>:9: RuntimeWarning: invalid value encountered in matmul\n",
      "  y = C @ (A @ x + B @ u) + measure_dist.rvs()\n",
      "<ipython-input-40-13e19045e37c>:10: RuntimeWarning: invalid value encountered in matmul\n",
      "  innovation = y - C @ (A @ x_hat + B @ u)\n"
     ]
    },
    {
     "output_type": "execute_result",
     "data": {
      "text/plain": [
       "0.743"
      ]
     },
     "metadata": {},
     "execution_count": 40
    }
   ],
   "metadata": {}
  },
  {
   "cell_type": "code",
   "execution_count": 38,
   "source": [
    "plt.plot(states_un[:100,:] @ C.T)"
   ],
   "outputs": [
    {
     "output_type": "execute_result",
     "data": {
      "text/plain": [
       "[<matplotlib.lines.Line2D at 0x7f9e94f683a0>]"
      ]
     },
     "metadata": {},
     "execution_count": 38
    },
    {
     "output_type": "display_data",
     "data": {
      "text/plain": [
       "<Figure size 432x288 with 1 Axes>"
      ],
      "image/png": "[encoded data removed]"
     },
     "metadata": {
      "needs_background": "light"
     }
    }
   ],
   "metadata": {}
  },
  {
   "cell_type": "code",
   "execution_count": null,
   "source": [],
   "outputs": [],
   "metadata": {}
  }
 ],
 "metadata": {
  "kernelspec": {
   "name": "python3",
   "display_name": "Python 3.8.11 64-bit ('sysid': conda)"
  },
  "language_info": {
   "codemirror_mode": {
    "name": "ipython",
    "version": 3
   },
   "file_extension": ".py",
   "mimetype": "text/x-python",
   "name": "python",
   "nbconvert_exporter": "python",
   "pygments_lexer": "ipython3",
   "version": "3.8.11"
  },
  "interpreter": {
   "hash": "861be5dcceb9700af41102220d28bef2814094e5c467cfc43a69fa2b50a2d1e2"
  }
 },
 "nbformat": 4,
 "nbformat_minor": 5
}