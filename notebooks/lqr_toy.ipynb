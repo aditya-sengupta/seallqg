{
 "cells": [
  {
   "cell_type": "markdown",
   "id": "b34c69fc",
   "metadata": {},
   "source": [
    "# Aim\n",
    "\n",
    "Solve an LQR toy problem to see what to do"
   ]
  },
  {
   "cell_type": "code",
   "execution_count": 26,
   "id": "912cd7cf",
   "metadata": {},
   "outputs": [],
   "source": [
    "import numpy as np\n",
    "from scipy import linalg as la\n",
    "from scipy import stats as st\n",
    "\n",
    "inv = np.linalg.inv\n",
    "mvn = st.multivariate_normal\n",
    "rms = lambda data: round(np.sqrt(np.mean((data - np.mean(data)) ** 2)), 4)"
   ]
  },
  {
   "cell_type": "code",
   "execution_count": 35,
   "id": "afe1d945",
   "metadata": {},
   "outputs": [],
   "source": [
    "s = 1\n",
    "m = 1\n",
    "p = 1\n",
    "nsteps = 10000"
   ]
  },
  {
   "cell_type": "code",
   "execution_count": 42,
   "id": "b54806b9",
   "metadata": {},
   "outputs": [],
   "source": [
    "lambdas = np.random.uniform(-1, 1, s)\n",
    "lambdas = lambdas / ((1 + 1e-6) * np.max(np.abs(lambdas)))\n",
    "M = np.random.randn(s,s)\n",
    "A = np.linalg.inv(M) @ np.diag(lambdas) @ M\n",
    "B = np.random.randn(s,m)\n",
    "C = np.random.randn(p,s)\n",
    "Q = np.eye(s)\n",
    "R = np.eye(m)\n",
    "W = 0.5 * np.eye(s)\n",
    "V = 10 * np.eye(p)\n",
    "process_dist = mvn(cov=W)\n",
    "measure_dist = mvn(cov=V)\n",
    "x = process_dist.rvs()"
   ]
  },
  {
   "cell_type": "code",
   "execution_count": 43,
   "id": "f81e6d28",
   "metadata": {},
   "outputs": [],
   "source": [
    "kalman_cov = la.solve_discrete_are(A.T, C.T, W, V)\n",
    "kalman_gain = kalman_cov @ C.T @ inv(C @ kalman_cov @ C.T + V)\n",
    "lqr_cov = la.solve_discrete_are(A, B, Q, R)\n",
    "lqr_gain = -inv(R + B.T @ lqr_cov @ B) @ B.T @ lqr_cov @ A"
   ]
  },
  {
   "cell_type": "code",
   "execution_count": 44,
   "id": "b0ea56da",
   "metadata": {
    "scrolled": true
   },
   "outputs": [
    {
     "data": {
      "text/plain": [
       "12.204"
      ]
     },
     "execution_count": 44,
     "metadata": {},
     "output_type": "execute_result"
    }
   ],
   "source": [
    "states_un = np.zeros((nsteps, s))\n",
    "states_un[0,:] = x\n",
    "for i in range(1, nsteps):\n",
    "    states_un[i,:] = A @ states_un[i-1,:] + process_dist.rvs()\n",
    "    \n",
    "rms(states_un)"
   ]
  },
  {
   "cell_type": "code",
   "execution_count": 45,
   "id": "1d43b072",
   "metadata": {},
   "outputs": [
    {
     "data": {
      "text/plain": [
       "0.7003"
      ]
     },
     "execution_count": 45,
     "metadata": {},
     "output_type": "execute_result"
    }
   ],
   "source": [
    "states = np.zeros((nsteps, s))\n",
    "states_hat = np.zeros((nsteps, s))\n",
    "states[0,:] = x\n",
    "states_hat[0,:] = x\n",
    "for i in range(1, nsteps):\n",
    "    x = states[i-1,:]\n",
    "    x_hat = states_hat[i-1,:]\n",
    "    u = lqr_gain @ x_hat\n",
    "    y = C @ (A @ x + B @ u) + measure_dist.rvs()\n",
    "    innovation = y - C @ (A @ x_hat + B @ u)\n",
    "    states_hat[i,:] = A @ x_hat + B @ u + kalman_gain @ innovation\n",
    "    states[i,:] = states[i,:] + process_dist.rvs()\n",
    "    \n",
    "rms(states)"
   ]
  },
  {
   "cell_type": "code",
   "execution_count": 46,
   "id": "859e9af9",
   "metadata": {},
   "outputs": [
    {
     "data": {
      "text/plain": [
       "array([[1.80409856]])"
      ]
     },
     "execution_count": 46,
     "metadata": {},
     "output_type": "execute_result"
    }
   ],
   "source": [
    "lqr_cov"
   ]
  },
  {
   "cell_type": "code",
   "execution_count": null,
   "id": "4160963b",
   "metadata": {},
   "outputs": [],
   "source": []
  }
 ],
 "metadata": {
  "kernelspec": {
   "display_name": "Python 3",
   "language": "python",
   "name": "python3"
  },
  "language_info": {
   "codemirror_mode": {
    "name": "ipython",
    "version": 3
   },
   "file_extension": ".py",
   "mimetype": "text/x-python",
   "name": "python",
   "nbconvert_exporter": "python",
   "pygments_lexer": "ipython3",
   "version": "3.8.10"
  }
 },
 "nbformat": 4,
 "nbformat_minor": 5
}
