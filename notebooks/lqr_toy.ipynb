{
 "cells": [
  {
   "cell_type": "markdown",
   "source": [
    "# Aim\n",
    "\n",
    "Solve an LQR toy problem to see what to do"
   ],
   "metadata": {}
  },
  {
   "cell_type": "code",
   "execution_count": 1,
   "source": [
    "import numpy as np\n",
    "from scipy import linalg as la\n",
    "from scipy import stats as st\n",
    "from matplotlib import pyplot as plt\n",
    "\n",
    "inv = np.linalg.inv\n",
    "mvn = st.multivariate_normal\n",
    "rms = lambda data: round(np.sqrt(np.mean((data - np.mean(data)) ** 2)), 4)"
   ],
   "outputs": [],
   "metadata": {}
  },
  {
   "cell_type": "code",
   "execution_count": 2,
   "source": [
    "import sys\n",
    "sys.path.append(\"..\")\n",
    "from src.controllers import KalmanLQG"
   ],
   "outputs": [
    {
     "output_type": "stream",
     "name": "stdout",
     "text": [
      "Running in simulation mode.\n",
      "Recomputed interaction matrix and command matrix\n"
     ]
    },
    {
     "output_type": "stream",
     "name": "stderr",
     "text": [
      "/Users/adityasengupta/research/ao/set-tt-control/notebooks/../src/optics/image.py:109: UserWarning: Exposure time in sim optics is not used yet.\n",
      "  warnings.warn(\"Exposure time in sim optics is not used yet.\")\n",
      "/Users/adityasengupta/research/ao/set-tt-control/notebooks/../src/optics/image.py:117: UserWarning: Image propagation from the DM has not been implemented.\n",
      "  warnings.warn(\"Image propagation from the DM has not been implemented.\")\n"
     ]
    }
   ],
   "metadata": {}
  },
  {
   "cell_type": "code",
   "execution_count": 3,
   "source": [
    "s = 2\n",
    "m = 1\n",
    "p = 1\n",
    "nsteps = 1000"
   ],
   "outputs": [],
   "metadata": {}
  },
  {
   "cell_type": "code",
   "execution_count": 22,
   "source": [
    "A = np.array([[0.94154541, -0.97488067], [1, 0]])\n",
    "B = np.random.randn(s,m)\n",
    "C = np.random.randn(p,s)\n",
    "Q = np.eye(s)\n",
    "R = 0.01 * np.eye(m)\n",
    "W = 0.01 * np.eye(s)\n",
    "V = 10 * np.eye(p)\n",
    "klv = KalmanLQG(A, B, C, W, V, Q, R)\n",
    "process_dist = mvn(cov=W)\n",
    "measure_dist = mvn(cov=V)\n",
    "x = process_dist.rvs()"
   ],
   "outputs": [
    {
     "output_type": "stream",
     "name": "stdout",
     "text": [
      "Solved discrete ARE.\n",
      "Solved discrete ARE.\n"
     ]
    }
   ],
   "metadata": {}
  },
  {
   "cell_type": "code",
   "execution_count": 23,
   "source": [
    "states_un = np.zeros((nsteps, s))\n",
    "states_un[0,:] = x\n",
    "for i in range(1, nsteps):\n",
    "    states_un[i,:] = A @ states_un[i-1,:]# + process_dist.rvs()\n",
    "    \n",
    "rms(states_un @ C.T)"
   ],
   "outputs": [
    {
     "output_type": "execute_result",
     "data": {
      "text/plain": [
       "0.0033"
      ]
     },
     "metadata": {},
     "execution_count": 23
    }
   ],
   "metadata": {
    "scrolled": true
   }
  },
  {
   "cell_type": "code",
   "execution_count": 24,
   "source": [
    "states_nokf = np.zeros((nsteps, s))\n",
    "states_nokf[0,:] = x\n",
    "for i in range(1, nsteps):\n",
    "    x = states_nokf[i-1,:]\n",
    "    u = klv.L @ x\n",
    "    states_nokf[i,:] = A @ x + B @ u# + process_dist.rvs()\n",
    "    \n",
    "rms(states_nokf @ C.T)"
   ],
   "outputs": [
    {
     "output_type": "execute_result",
     "data": {
      "text/plain": [
       "0.0006"
      ]
     },
     "metadata": {},
     "execution_count": 24
    }
   ],
   "metadata": {}
  },
  {
   "cell_type": "code",
   "execution_count": 25,
   "source": [
    "plt.plot(states_un @ C.T)\n",
    "plt.plot(states_nokf @ C.T)"
   ],
   "outputs": [
    {
     "output_type": "execute_result",
     "data": {
      "text/plain": [
       "[<matplotlib.lines.Line2D at 0x7f95769f4430>]"
      ]
     },
     "metadata": {},
     "execution_count": 25
    },
    {
     "output_type": "display_data",
     "data": {
      "text/plain": [
       "<Figure size 432x288 with 1 Axes>"
      ],
      "image/png": "[encoded data removed]"
     },
     "metadata": {
      "needs_background": "light"
     }
    }
   ],
   "metadata": {}
  },
  {
   "cell_type": "code",
   "execution_count": 6,
   "source": [
    "states = np.zeros((nsteps, s))\n",
    "states_hat = np.zeros((nsteps, s))\n",
    "states[0,:] = x\n",
    "states_hat[0,:] = x\n",
    "for i in range(1, nsteps):\n",
    "    x = states[i-1,:]\n",
    "    x_hat = states_hat[i-1,:]\n",
    "    u = klv.L @ x_hat\n",
    "    y = C @ (A @ x + B @ u) + measure_dist.rvs()\n",
    "    innovation = y - C @ (A @ x_hat + B @ u)\n",
    "    states_hat[i,:] = A @ x_hat + B @ u + klv.K @ innovation\n",
    "    states[i,:] = A @ x + B @ u + process_dist.rvs()\n",
    "    \n",
    "rms(states @ C.T)"
   ],
   "outputs": [
    {
     "output_type": "execute_result",
     "data": {
      "text/plain": [
       "1.2257"
      ]
     },
     "metadata": {},
     "execution_count": 6
    }
   ],
   "metadata": {}
  },
  {
   "cell_type": "code",
   "execution_count": 167,
   "source": [
    "plt.plot(states @ C.T)\n",
    "plt.plot(states_hat @ C.T)"
   ],
   "outputs": [
    {
     "output_type": "execute_result",
     "data": {
      "text/plain": [
       "[<matplotlib.lines.Line2D at 0x7f9e7c2765e0>]"
      ]
     },
     "metadata": {},
     "execution_count": 167
    },
    {
     "output_type": "display_data",
     "data": {
      "text/plain": [
       "<Figure size 432x288 with 1 Axes>"
      ],
      "image/png": "[encoded data removed]"
     },
     "metadata": {
      "needs_background": "light"
     }
    }
   ],
   "metadata": {}
  },
  {
   "cell_type": "code",
   "execution_count": null,
   "source": [],
   "outputs": [],
   "metadata": {}
  }
 ],
 "metadata": {
  "kernelspec": {
   "name": "python3",
   "display_name": "Python 3.8.11 64-bit ('sysid': conda)"
  },
  "language_info": {
   "codemirror_mode": {
    "name": "ipython",
    "version": 3
   },
   "file_extension": ".py",
   "mimetype": "text/x-python",
   "name": "python",
   "nbconvert_exporter": "python",
   "pygments_lexer": "ipython3",
   "version": "3.8.11"
  },
  "interpreter": {
   "hash": "861be5dcceb9700af41102220d28bef2814094e5c467cfc43a69fa2b50a2d1e2"
  }
 },
 "nbformat": 4,
 "nbformat_minor": 5
}