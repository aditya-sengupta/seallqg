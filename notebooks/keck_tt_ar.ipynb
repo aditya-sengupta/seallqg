{
 "cells": [
  {
   "cell_type": "markdown",
   "id": "f0878e9e",
   "metadata": {},
   "source": [
    "# Aim\n",
    "\n",
    "Fit an autoregressive model to Keck TT data, and see how good of a description it is."
   ]
  },
  {
   "cell_type": "code",
   "execution_count": 3,
   "id": "6c1ef608",
   "metadata": {},
   "outputs": [
    {
     "data": {
      "text/plain": [
       "rms (generic function with 1 method)"
      ]
     },
     "execution_count": 3,
     "metadata": {},
     "output_type": "execute_result"
    }
   ],
   "source": [
    "using DSP, Distributions, LinearAlgebra\n",
    "using Plots, NPZ\n",
    "import Statistics: mean\n",
    "rms(x) = x .^ 2 |> mean |> sqrt"
   ]
  },
  {
   "cell_type": "code",
   "execution_count": 2,
   "id": "76ea8ff6",
   "metadata": {},
   "outputs": [
    {
     "data": {
      "text/plain": [
       "simulate (generic function with 1 method)"
      ]
     },
     "execution_count": 2,
     "metadata": {},
     "output_type": "execute_result"
    }
   ],
   "source": [
    "include(\"../src/kfilter.jl\")"
   ]
  },
  {
   "cell_type": "code",
   "execution_count": null,
   "id": "b7db6526",
   "metadata": {},
   "outputs": [],
   "source": [
    "σ = 0.06\n",
    "pols = npzread(\"../data/sims/atm_openloops.npy\")[:,1]\n",
    "measurements = pols .+ rand(Normal(0, σ), (length(pols),))\n",
    "plot(pols, xlabel=\"Time\", ylabel=\"Tip (mas)\")"
   ]
  },
  {
   "cell_type": "code",
   "execution_count": null,
   "id": "db2470da",
   "metadata": {},
   "outputs": [],
   "source": [
    "rms(pols .- mean(pols))"
   ]
  },
  {
   "cell_type": "code",
   "execution_count": null,
   "id": "78f80d37",
   "metadata": {},
   "outputs": [],
   "source": [
    "ar_len = 2\n",
    "n = length(pols)\n",
    "\n",
    "TTs_mat = Matrix{Float64}(undef, n - ar_len, ar_len)\n",
    "for i = 1:ar_len\n",
    "   TTs_mat[:, i] = pols[ar_len - i + 1 : n - i, 1] \n",
    "end\n",
    "\n",
    "# Solve autoregressive problem\n",
    "ar_coef = TTs_mat \\ pols[ar_len + 1: end]"
   ]
  },
  {
   "cell_type": "code",
   "execution_count": null,
   "id": "07082149",
   "metadata": {},
   "outputs": [],
   "source": [
    "ar_residual = pols[ar_len:end-1] .- (TTs_mat * evaluate(ar_coef));"
   ]
  },
  {
   "cell_type": "code",
   "execution_count": null,
   "id": "f8d81096",
   "metadata": {},
   "outputs": [],
   "source": [
    "nsteps_plot = 500\n",
    "plot(pols[ar_len:nsteps_plot+ar_len-1], label=\"HCIPy open-loops\")\n",
    "plot!((TTs_mat * ar_coef)[1:nsteps_plot], label=\"AR fit\"; \n",
    "    title=\"autoregression: RMS error = $(round(rms(ar_residual); digits=3))\")\n",
    "plot!(ar_residual[1:nsteps_plot], label=\"Residual\")"
   ]
  },
  {
   "cell_type": "code",
   "execution_count": null,
   "id": "25bee448",
   "metadata": {},
   "outputs": [],
   "source": [
    "plot_per!(p::DSP.Periodograms.Periodogram; kwargs...) = plot!(p.freq[1000:end], p.power[1000:end], yaxis=:log; kwargs...)"
   ]
  },
  {
   "cell_type": "code",
   "execution_count": null,
   "id": "ff64155d",
   "metadata": {},
   "outputs": [],
   "source": [
    "plot()\n",
    "periodogram(ar_residual, fs=1000) |> plot_per!"
   ]
  },
  {
   "cell_type": "code",
   "execution_count": null,
   "id": "bdb8edca",
   "metadata": {},
   "outputs": [],
   "source": [
    "A = zeros(ar_len, ar_len)\n",
    "A[1,:] = ar_coef\n",
    "for i in 2:ar_len\n",
    "    A[i,i-1] += 1.0\n",
    "end\n",
    "\n",
    "B = zeros(ar_len, 0)\n",
    "C = zeros(1, ar_len)\n",
    "C[1] += 1\n",
    "\n",
    "Q = zeros(ar_len, ar_len)\n",
    "Q[1,1] = mean(ar_residual[1:100] .^ 2)\n",
    "\n",
    "R = σ^2 * I\n",
    "\n",
    "kf = KFilter(A, B, C, Q, R)"
   ]
  },
  {
   "cell_type": "code",
   "execution_count": null,
   "id": "6b744684",
   "metadata": {},
   "outputs": [],
   "source": [
    "x = [pols[99], pols[100]]\n",
    "simulate(kf, pols[1001:end], [[] for _ in pols[1001:end]]) "
   ]
  },
  {
   "cell_type": "code",
   "execution_count": null,
   "id": "e9e89d58",
   "metadata": {},
   "outputs": [],
   "source": []
  }
 ],
 "metadata": {
  "kernelspec": {
   "display_name": "Julia 1.6.0",
   "language": "julia",
   "name": "julia-1.6"
  },
  "language_info": {
   "file_extension": ".jl",
   "mimetype": "application/julia",
   "name": "julia",
   "version": "1.6.0"
  }
 },
 "nbformat": 4,
 "nbformat_minor": 5
}
