{
 "cells": [
  {
   "cell_type": "code",
   "execution_count": null,
   "id": "5f0458ba",
   "metadata": {},
   "outputs": [],
   "source": [
    "using ControlSystems\n",
    "using Plots"
   ]
  },
  {
   "cell_type": "code",
   "execution_count": null,
   "id": "88b46c92",
   "metadata": {},
   "outputs": [],
   "source": [
    "using Pkg\n",
    "Pkg.add(\"LowLevelParticleFilters\")"
   ]
  },
  {
   "cell_type": "code",
   "execution_count": null,
   "id": "2a56914f",
   "metadata": {},
   "outputs": [],
   "source": [
    "P = tf(1, [1, 3, 3, 1])"
   ]
  },
  {
   "cell_type": "code",
   "execution_count": null,
   "id": "f407facc",
   "metadata": {},
   "outputs": [],
   "source": [
    "?feedback"
   ]
  },
  {
   "cell_type": "code",
   "execution_count": null,
   "id": "d7790513",
   "metadata": {},
   "outputs": [],
   "source": [
    "p = plot(legend=:topleft)\n",
    "for Kp in 0.1:0.1:1.0\n",
    "    _, t, x = step(feedback(Kp*P, 1))\n",
    "    plot!(t, x[:,1], label=\"Kp = \"* string(Kp))\n",
    "end\n",
    "p"
   ]
  },
  {
   "cell_type": "code",
   "execution_count": null,
   "id": "79b57cde",
   "metadata": {},
   "outputs": [],
   "source": [
    "damp(P)"
   ]
  },
  {
   "cell_type": "code",
   "execution_count": null,
   "id": "29ce177b",
   "metadata": {},
   "outputs": [],
   "source": [
    "pid(;kp=1, ki=1, kd=1)"
   ]
  },
  {
   "cell_type": "code",
   "execution_count": null,
   "id": "cab024b6",
   "metadata": {},
   "outputs": [],
   "source": [
    "pid(;kp=300)"
   ]
  },
  {
   "cell_type": "code",
   "execution_count": null,
   "id": "484ce4b4",
   "metadata": {},
   "outputs": [],
   "source": [
    "feedback(C*tf(1, [1, 10, 20]))"
   ]
  },
  {
   "cell_type": "code",
   "execution_count": null,
   "id": "91fbb821",
   "metadata": {},
   "outputs": [],
   "source": [
    "C = pid(;kp=350, ki=300, kd=50)\n",
    "y, t, _ = step(feedback(C*tf(1, [1, 10, 20])), 2.0)\n",
    "plot(t, y)\n",
    "# this matches https://ctms.engin.umich.edu/CTMS/index.php?example=Introduction&section=ControlPID\n",
    "# note that unity feedback w `feedback(sys, 1)` is implemented here as `feedback(sys)` and isn't the same as in MATLAB"
   ]
  },
  {
   "cell_type": "code",
   "execution_count": null,
   "id": "6ce27641",
   "metadata": {},
   "outputs": [],
   "source": [
    "?step"
   ]
  },
  {
   "cell_type": "code",
   "execution_count": null,
   "id": "8e4bf682",
   "metadata": {},
   "outputs": [],
   "source": [
    "?gangoffourplot"
   ]
  },
  {
   "cell_type": "code",
   "execution_count": null,
   "id": "7bf1d0ce",
   "metadata": {},
   "outputs": [],
   "source": []
  }
 ],
 "metadata": {
  "kernelspec": {
   "display_name": "Julia 1.6.0",
   "language": "julia",
   "name": "julia-1.6"
  },
  "language_info": {
   "file_extension": ".jl",
   "mimetype": "application/julia",
   "name": "julia",
   "version": "1.6.0"
  }
 },
 "nbformat": 4,
 "nbformat_minor": 5
}
